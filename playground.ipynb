{
 "cells": [
  {
   "cell_type": "markdown",
   "metadata": {},
   "source": [
    "## A driver can only take one order at a time"
   ]
  },
  {
   "cell_type": "code",
   "execution_count": 1,
   "metadata": {},
   "outputs": [],
   "source": [
    "import pickle\n",
    "\n",
    "import numpy as np\n",
    "import pandas as pd\n",
    "\n",
    "from functools import partial\n",
    "from geopy.distance import geodesic\n",
    "\n",
    "from ortools.constraint_solver import routing_enums_pb2\n",
    "from ortools.constraint_solver import pywrapcp"
   ]
  },
  {
   "cell_type": "code",
   "execution_count": 2,
   "metadata": {},
   "outputs": [],
   "source": [
    "path = \"input_data\""
   ]
  },
  {
   "cell_type": "markdown",
   "metadata": {},
   "source": [
    "READ INPUT DATA FILES"
   ]
  },
  {
   "cell_type": "code",
   "execution_count": 3,
   "metadata": {},
   "outputs": [
    {
     "data": {
      "text/html": [
       "<div>\n",
       "<style scoped>\n",
       "    .dataframe tbody tr th:only-of-type {\n",
       "        vertical-align: middle;\n",
       "    }\n",
       "\n",
       "    .dataframe tbody tr th {\n",
       "        vertical-align: top;\n",
       "    }\n",
       "\n",
       "    .dataframe thead th {\n",
       "        text-align: right;\n",
       "    }\n",
       "</style>\n",
       "<table border=\"1\" class=\"dataframe\">\n",
       "  <thead>\n",
       "    <tr style=\"text-align: right;\">\n",
       "      <th></th>\n",
       "      <th>order_id</th>\n",
       "      <th>restaurant_lat</th>\n",
       "      <th>restaurant_long</th>\n",
       "      <th>customer_lat</th>\n",
       "      <th>customer_long</th>\n",
       "      <th>no_of_items</th>\n",
       "      <th>prep_duration_sec</th>\n",
       "      <th>preferred_otd_sec</th>\n",
       "    </tr>\n",
       "  </thead>\n",
       "  <tbody>\n",
       "    <tr>\n",
       "      <th>0</th>\n",
       "      <td>0</td>\n",
       "      <td>52.534717</td>\n",
       "      <td>13.392920</td>\n",
       "      <td>52.536950</td>\n",
       "      <td>13.363647</td>\n",
       "      <td>9</td>\n",
       "      <td>960</td>\n",
       "      <td>2400</td>\n",
       "    </tr>\n",
       "    <tr>\n",
       "      <th>1</th>\n",
       "      <td>1</td>\n",
       "      <td>52.507490</td>\n",
       "      <td>13.460169</td>\n",
       "      <td>52.521861</td>\n",
       "      <td>13.464337</td>\n",
       "      <td>10</td>\n",
       "      <td>780</td>\n",
       "      <td>2400</td>\n",
       "    </tr>\n",
       "    <tr>\n",
       "      <th>2</th>\n",
       "      <td>2</td>\n",
       "      <td>52.539029</td>\n",
       "      <td>13.384884</td>\n",
       "      <td>52.507035</td>\n",
       "      <td>13.459327</td>\n",
       "      <td>12</td>\n",
       "      <td>360</td>\n",
       "      <td>2400</td>\n",
       "    </tr>\n",
       "    <tr>\n",
       "      <th>3</th>\n",
       "      <td>3</td>\n",
       "      <td>52.508368</td>\n",
       "      <td>13.408875</td>\n",
       "      <td>52.519709</td>\n",
       "      <td>13.374291</td>\n",
       "      <td>16</td>\n",
       "      <td>1020</td>\n",
       "      <td>2400</td>\n",
       "    </tr>\n",
       "    <tr>\n",
       "      <th>4</th>\n",
       "      <td>4</td>\n",
       "      <td>52.537509</td>\n",
       "      <td>13.429478</td>\n",
       "      <td>52.544824</td>\n",
       "      <td>13.432814</td>\n",
       "      <td>15</td>\n",
       "      <td>360</td>\n",
       "      <td>2400</td>\n",
       "    </tr>\n",
       "  </tbody>\n",
       "</table>\n",
       "</div>"
      ],
      "text/plain": [
       "   order_id  restaurant_lat  restaurant_long  customer_lat  customer_long  \\\n",
       "0         0       52.534717        13.392920     52.536950      13.363647   \n",
       "1         1       52.507490        13.460169     52.521861      13.464337   \n",
       "2         2       52.539029        13.384884     52.507035      13.459327   \n",
       "3         3       52.508368        13.408875     52.519709      13.374291   \n",
       "4         4       52.537509        13.429478     52.544824      13.432814   \n",
       "\n",
       "   no_of_items  prep_duration_sec  preferred_otd_sec  \n",
       "0            9                960               2400  \n",
       "1           10                780               2400  \n",
       "2           12                360               2400  \n",
       "3           16               1020               2400  \n",
       "4           15                360               2400  "
      ]
     },
     "execution_count": 3,
     "metadata": {},
     "output_type": "execute_result"
    }
   ],
   "source": [
    "order_df = pd.read_csv(f\"{path}/order_data.csv\")\n",
    "order_df.head()"
   ]
  },
  {
   "cell_type": "code",
   "execution_count": 4,
   "metadata": {},
   "outputs": [
    {
     "data": {
      "text/html": [
       "<div>\n",
       "<style scoped>\n",
       "    .dataframe tbody tr th:only-of-type {\n",
       "        vertical-align: middle;\n",
       "    }\n",
       "\n",
       "    .dataframe tbody tr th {\n",
       "        vertical-align: top;\n",
       "    }\n",
       "\n",
       "    .dataframe thead th {\n",
       "        text-align: right;\n",
       "    }\n",
       "</style>\n",
       "<table border=\"1\" class=\"dataframe\">\n",
       "  <thead>\n",
       "    <tr style=\"text-align: right;\">\n",
       "      <th></th>\n",
       "      <th>driver_id</th>\n",
       "      <th>shift_start_sec</th>\n",
       "      <th>shift_end_sec</th>\n",
       "      <th>start_location_lat</th>\n",
       "      <th>start_location_long</th>\n",
       "      <th>vehicle</th>\n",
       "    </tr>\n",
       "  </thead>\n",
       "  <tbody>\n",
       "    <tr>\n",
       "      <th>0</th>\n",
       "      <td>0</td>\n",
       "      <td>0</td>\n",
       "      <td>7200</td>\n",
       "      <td>52.502670</td>\n",
       "      <td>13.447406</td>\n",
       "      <td>BIKE</td>\n",
       "    </tr>\n",
       "    <tr>\n",
       "      <th>1</th>\n",
       "      <td>1</td>\n",
       "      <td>0</td>\n",
       "      <td>7200</td>\n",
       "      <td>52.518258</td>\n",
       "      <td>13.447747</td>\n",
       "      <td>BIKE</td>\n",
       "    </tr>\n",
       "    <tr>\n",
       "      <th>2</th>\n",
       "      <td>2</td>\n",
       "      <td>0</td>\n",
       "      <td>7200</td>\n",
       "      <td>52.517876</td>\n",
       "      <td>13.460788</td>\n",
       "      <td>BIKE</td>\n",
       "    </tr>\n",
       "    <tr>\n",
       "      <th>3</th>\n",
       "      <td>3</td>\n",
       "      <td>0</td>\n",
       "      <td>7200</td>\n",
       "      <td>52.528275</td>\n",
       "      <td>13.431436</td>\n",
       "      <td>BIKE</td>\n",
       "    </tr>\n",
       "    <tr>\n",
       "      <th>4</th>\n",
       "      <td>4</td>\n",
       "      <td>0</td>\n",
       "      <td>7200</td>\n",
       "      <td>52.510854</td>\n",
       "      <td>13.454662</td>\n",
       "      <td>BIKE</td>\n",
       "    </tr>\n",
       "  </tbody>\n",
       "</table>\n",
       "</div>"
      ],
      "text/plain": [
       "   driver_id  shift_start_sec  shift_end_sec  start_location_lat  \\\n",
       "0          0                0           7200           52.502670   \n",
       "1          1                0           7200           52.518258   \n",
       "2          2                0           7200           52.517876   \n",
       "3          3                0           7200           52.528275   \n",
       "4          4                0           7200           52.510854   \n",
       "\n",
       "   start_location_long vehicle  \n",
       "0            13.447406    BIKE  \n",
       "1            13.447747    BIKE  \n",
       "2            13.460788    BIKE  \n",
       "3            13.431436    BIKE  \n",
       "4            13.454662    BIKE  "
      ]
     },
     "execution_count": 4,
     "metadata": {},
     "output_type": "execute_result"
    }
   ],
   "source": [
    "driver_df = pd.read_csv(f\"{path}/driver_data.csv\")\n",
    "driver_df.head()"
   ]
  },
  {
   "cell_type": "code",
   "execution_count": 5,
   "metadata": {},
   "outputs": [
    {
     "data": {
      "text/html": [
       "<div>\n",
       "<style scoped>\n",
       "    .dataframe tbody tr th:only-of-type {\n",
       "        vertical-align: middle;\n",
       "    }\n",
       "\n",
       "    .dataframe tbody tr th {\n",
       "        vertical-align: top;\n",
       "    }\n",
       "\n",
       "    .dataframe thead th {\n",
       "        text-align: right;\n",
       "    }\n",
       "</style>\n",
       "<table border=\"1\" class=\"dataframe\">\n",
       "  <thead>\n",
       "    <tr style=\"text-align: right;\">\n",
       "      <th></th>\n",
       "      <th>order_id</th>\n",
       "      <th>restaurant_lat</th>\n",
       "      <th>restaurant_long</th>\n",
       "      <th>customer_lat</th>\n",
       "      <th>customer_long</th>\n",
       "      <th>no_of_items</th>\n",
       "      <th>prep_duration_sec</th>\n",
       "      <th>preferred_otd_sec</th>\n",
       "    </tr>\n",
       "  </thead>\n",
       "  <tbody>\n",
       "    <tr>\n",
       "      <th>count</th>\n",
       "      <td>100.000000</td>\n",
       "      <td>100.000000</td>\n",
       "      <td>100.000000</td>\n",
       "      <td>100.000000</td>\n",
       "      <td>100.000000</td>\n",
       "      <td>100.000000</td>\n",
       "      <td>100.000000</td>\n",
       "      <td>100.0</td>\n",
       "    </tr>\n",
       "    <tr>\n",
       "      <th>mean</th>\n",
       "      <td>49.500000</td>\n",
       "      <td>52.520640</td>\n",
       "      <td>13.408850</td>\n",
       "      <td>52.518894</td>\n",
       "      <td>13.406724</td>\n",
       "      <td>9.840000</td>\n",
       "      <td>723.600000</td>\n",
       "      <td>2400.0</td>\n",
       "    </tr>\n",
       "    <tr>\n",
       "      <th>std</th>\n",
       "      <td>29.011492</td>\n",
       "      <td>0.017904</td>\n",
       "      <td>0.028543</td>\n",
       "      <td>0.019089</td>\n",
       "      <td>0.028775</td>\n",
       "      <td>5.052692</td>\n",
       "      <td>267.489337</td>\n",
       "      <td>0.0</td>\n",
       "    </tr>\n",
       "    <tr>\n",
       "      <th>min</th>\n",
       "      <td>0.000000</td>\n",
       "      <td>52.485165</td>\n",
       "      <td>13.353377</td>\n",
       "      <td>52.486500</td>\n",
       "      <td>13.354016</td>\n",
       "      <td>1.000000</td>\n",
       "      <td>300.000000</td>\n",
       "      <td>2400.0</td>\n",
       "    </tr>\n",
       "    <tr>\n",
       "      <th>25%</th>\n",
       "      <td>24.750000</td>\n",
       "      <td>52.507638</td>\n",
       "      <td>13.388908</td>\n",
       "      <td>52.502885</td>\n",
       "      <td>13.384448</td>\n",
       "      <td>6.000000</td>\n",
       "      <td>480.000000</td>\n",
       "      <td>2400.0</td>\n",
       "    </tr>\n",
       "    <tr>\n",
       "      <th>50%</th>\n",
       "      <td>49.500000</td>\n",
       "      <td>52.519565</td>\n",
       "      <td>13.407955</td>\n",
       "      <td>52.518842</td>\n",
       "      <td>13.401845</td>\n",
       "      <td>9.000000</td>\n",
       "      <td>720.000000</td>\n",
       "      <td>2400.0</td>\n",
       "    </tr>\n",
       "    <tr>\n",
       "      <th>75%</th>\n",
       "      <td>74.250000</td>\n",
       "      <td>52.534732</td>\n",
       "      <td>13.429163</td>\n",
       "      <td>52.534923</td>\n",
       "      <td>13.430591</td>\n",
       "      <td>14.250000</td>\n",
       "      <td>960.000000</td>\n",
       "      <td>2400.0</td>\n",
       "    </tr>\n",
       "    <tr>\n",
       "      <th>max</th>\n",
       "      <td>99.000000</td>\n",
       "      <td>52.554721</td>\n",
       "      <td>13.464321</td>\n",
       "      <td>52.555948</td>\n",
       "      <td>13.464337</td>\n",
       "      <td>19.000000</td>\n",
       "      <td>1200.000000</td>\n",
       "      <td>2400.0</td>\n",
       "    </tr>\n",
       "  </tbody>\n",
       "</table>\n",
       "</div>"
      ],
      "text/plain": [
       "         order_id  restaurant_lat  restaurant_long  customer_lat  \\\n",
       "count  100.000000      100.000000       100.000000    100.000000   \n",
       "mean    49.500000       52.520640        13.408850     52.518894   \n",
       "std     29.011492        0.017904         0.028543      0.019089   \n",
       "min      0.000000       52.485165        13.353377     52.486500   \n",
       "25%     24.750000       52.507638        13.388908     52.502885   \n",
       "50%     49.500000       52.519565        13.407955     52.518842   \n",
       "75%     74.250000       52.534732        13.429163     52.534923   \n",
       "max     99.000000       52.554721        13.464321     52.555948   \n",
       "\n",
       "       customer_long  no_of_items  prep_duration_sec  preferred_otd_sec  \n",
       "count     100.000000   100.000000         100.000000              100.0  \n",
       "mean       13.406724     9.840000         723.600000             2400.0  \n",
       "std         0.028775     5.052692         267.489337                0.0  \n",
       "min        13.354016     1.000000         300.000000             2400.0  \n",
       "25%        13.384448     6.000000         480.000000             2400.0  \n",
       "50%        13.401845     9.000000         720.000000             2400.0  \n",
       "75%        13.430591    14.250000         960.000000             2400.0  \n",
       "max        13.464337    19.000000        1200.000000             2400.0  "
      ]
     },
     "execution_count": 5,
     "metadata": {},
     "output_type": "execute_result"
    }
   ],
   "source": [
    "# Check initial sanity of data\n",
    "order_df.describe()"
   ]
  },
  {
   "cell_type": "code",
   "execution_count": 6,
   "metadata": {},
   "outputs": [
    {
     "data": {
      "text/html": [
       "<div>\n",
       "<style scoped>\n",
       "    .dataframe tbody tr th:only-of-type {\n",
       "        vertical-align: middle;\n",
       "    }\n",
       "\n",
       "    .dataframe tbody tr th {\n",
       "        vertical-align: top;\n",
       "    }\n",
       "\n",
       "    .dataframe thead th {\n",
       "        text-align: right;\n",
       "    }\n",
       "</style>\n",
       "<table border=\"1\" class=\"dataframe\">\n",
       "  <thead>\n",
       "    <tr style=\"text-align: right;\">\n",
       "      <th></th>\n",
       "      <th>driver_id</th>\n",
       "      <th>shift_start_sec</th>\n",
       "      <th>shift_end_sec</th>\n",
       "      <th>start_location_lat</th>\n",
       "      <th>start_location_long</th>\n",
       "    </tr>\n",
       "  </thead>\n",
       "  <tbody>\n",
       "    <tr>\n",
       "      <th>count</th>\n",
       "      <td>40.000000</td>\n",
       "      <td>40.0</td>\n",
       "      <td>40.0</td>\n",
       "      <td>40.000000</td>\n",
       "      <td>40.000000</td>\n",
       "    </tr>\n",
       "    <tr>\n",
       "      <th>mean</th>\n",
       "      <td>19.500000</td>\n",
       "      <td>0.0</td>\n",
       "      <td>7200.0</td>\n",
       "      <td>52.520005</td>\n",
       "      <td>13.406796</td>\n",
       "    </tr>\n",
       "    <tr>\n",
       "      <th>std</th>\n",
       "      <td>11.690452</td>\n",
       "      <td>0.0</td>\n",
       "      <td>0.0</td>\n",
       "      <td>0.015724</td>\n",
       "      <td>0.030908</td>\n",
       "    </tr>\n",
       "    <tr>\n",
       "      <th>min</th>\n",
       "      <td>0.000000</td>\n",
       "      <td>0.0</td>\n",
       "      <td>7200.0</td>\n",
       "      <td>52.488881</td>\n",
       "      <td>13.351823</td>\n",
       "    </tr>\n",
       "    <tr>\n",
       "      <th>25%</th>\n",
       "      <td>9.750000</td>\n",
       "      <td>0.0</td>\n",
       "      <td>7200.0</td>\n",
       "      <td>52.509868</td>\n",
       "      <td>13.381836</td>\n",
       "    </tr>\n",
       "    <tr>\n",
       "      <th>50%</th>\n",
       "      <td>19.500000</td>\n",
       "      <td>0.0</td>\n",
       "      <td>7200.0</td>\n",
       "      <td>52.519269</td>\n",
       "      <td>13.410317</td>\n",
       "    </tr>\n",
       "    <tr>\n",
       "      <th>75%</th>\n",
       "      <td>29.250000</td>\n",
       "      <td>0.0</td>\n",
       "      <td>7200.0</td>\n",
       "      <td>52.530530</td>\n",
       "      <td>13.422828</td>\n",
       "    </tr>\n",
       "    <tr>\n",
       "      <th>max</th>\n",
       "      <td>39.000000</td>\n",
       "      <td>0.0</td>\n",
       "      <td>7200.0</td>\n",
       "      <td>52.555571</td>\n",
       "      <td>13.460788</td>\n",
       "    </tr>\n",
       "  </tbody>\n",
       "</table>\n",
       "</div>"
      ],
      "text/plain": [
       "       driver_id  shift_start_sec  shift_end_sec  start_location_lat  \\\n",
       "count  40.000000             40.0           40.0           40.000000   \n",
       "mean   19.500000              0.0         7200.0           52.520005   \n",
       "std    11.690452              0.0            0.0            0.015724   \n",
       "min     0.000000              0.0         7200.0           52.488881   \n",
       "25%     9.750000              0.0         7200.0           52.509868   \n",
       "50%    19.500000              0.0         7200.0           52.519269   \n",
       "75%    29.250000              0.0         7200.0           52.530530   \n",
       "max    39.000000              0.0         7200.0           52.555571   \n",
       "\n",
       "       start_location_long  \n",
       "count            40.000000  \n",
       "mean             13.406796  \n",
       "std               0.030908  \n",
       "min              13.351823  \n",
       "25%              13.381836  \n",
       "50%              13.410317  \n",
       "75%              13.422828  \n",
       "max              13.460788  "
      ]
     },
     "execution_count": 6,
     "metadata": {},
     "output_type": "execute_result"
    }
   ],
   "source": [
    "driver_df.describe()"
   ]
  },
  {
   "cell_type": "code",
   "execution_count": 7,
   "metadata": {},
   "outputs": [],
   "source": [
    "# We have used geodesics to calculate distances between two coordinates\n",
    "def calculate_distance(coord1, coord2):\n",
    "    return int(geodesic(coord1, coord2).meters)"
   ]
  },
  {
   "cell_type": "code",
   "execution_count": 8,
   "metadata": {},
   "outputs": [],
   "source": [
    "pickup_coordinates = order_df[[\"restaurant_lat\", \"restaurant_long\"]].values.tolist()\n",
    "drop_coordinates = order_df[[\"customer_lat\", \"customer_long\"]].values.tolist()"
   ]
  },
  {
   "cell_type": "code",
   "execution_count": 9,
   "metadata": {},
   "outputs": [],
   "source": [
    "veh_start_coordinates = driver_df[\n",
    "    [\"start_location_lat\", \"start_location_long\"]\n",
    "].values.tolist()"
   ]
  },
  {
   "cell_type": "code",
   "execution_count": 10,
   "metadata": {},
   "outputs": [],
   "source": [
    "cust_coordinates = pickup_coordinates + drop_coordinates"
   ]
  },
  {
   "cell_type": "code",
   "execution_count": 11,
   "metadata": {},
   "outputs": [
    {
     "data": {
      "text/plain": [
       "100"
      ]
     },
     "execution_count": 11,
     "metadata": {},
     "output_type": "execute_result"
    }
   ],
   "source": [
    "len(pickup_coordinates)"
   ]
  },
  {
   "cell_type": "code",
   "execution_count": 12,
   "metadata": {},
   "outputs": [
    {
     "data": {
      "text/plain": [
       "200"
      ]
     },
     "execution_count": 12,
     "metadata": {},
     "output_type": "execute_result"
    }
   ],
   "source": [
    "len(cust_coordinates)"
   ]
  },
  {
   "cell_type": "code",
   "execution_count": 13,
   "metadata": {},
   "outputs": [
    {
     "data": {
      "text/plain": [
       "240"
      ]
     },
     "execution_count": 13,
     "metadata": {},
     "output_type": "execute_result"
    }
   ],
   "source": [
    "all_coordinates = cust_coordinates + veh_start_coordinates\n",
    "all_coordinates_count = len(all_coordinates)\n",
    "all_coordinates_count"
   ]
  },
  {
   "cell_type": "code",
   "execution_count": 14,
   "metadata": {},
   "outputs": [],
   "source": [
    "# 1 dummy node at beginning to allow arbitrary end locations of routes\n",
    "distance_matrix = [\n",
    "    [0] * (all_coordinates_count + 1) for _ in range(all_coordinates_count + 1)\n",
    "]"
   ]
  },
  {
   "cell_type": "code",
   "execution_count": 15,
   "metadata": {},
   "outputs": [],
   "source": [
    "# for i in range(all_coordinates_count):\n",
    "#     for j in range(all_coordinates_count):\n",
    "#         distance_matrix[i+1][j+1] = calculate_distance(all_coordinates[i], all_coordinates[j])\n",
    "\n",
    "# with open(\"dm\", \"wb\") as fp:   #Pickling\n",
    "#   pickle.dump(distance_matrix, fp)"
   ]
  },
  {
   "cell_type": "code",
   "execution_count": 16,
   "metadata": {},
   "outputs": [],
   "source": [
    "with open(\"dm\", \"rb\") as fp:  # Unpickling\n",
    "    distance_matrix = pickle.load(fp)"
   ]
  },
  {
   "cell_type": "code",
   "execution_count": 17,
   "metadata": {},
   "outputs": [],
   "source": [
    "data = {}\n",
    "data[\"distance_matrix\"] = distance_matrix\n",
    "data[\"num_vehicles\"] = driver_df.shape[0]"
   ]
  },
  {
   "cell_type": "code",
   "execution_count": 18,
   "metadata": {},
   "outputs": [],
   "source": [
    "data[\"veh_start_indices\"] = [\n",
    "    len(cust_coordinates) + i + 1 for i in range(driver_df.shape[0])\n",
    "]"
   ]
  },
  {
   "cell_type": "code",
   "execution_count": 19,
   "metadata": {},
   "outputs": [],
   "source": [
    "data[\"veh_end_indices\"] = [0 for _ in range(driver_df.shape[0])]"
   ]
  },
  {
   "cell_type": "code",
   "execution_count": 20,
   "metadata": {},
   "outputs": [
    {
     "data": {
      "text/plain": [
       "40"
      ]
     },
     "execution_count": 20,
     "metadata": {},
     "output_type": "execute_result"
    }
   ],
   "source": [
    "data[\"num_vehicles\"]"
   ]
  },
  {
   "cell_type": "code",
   "execution_count": 21,
   "metadata": {},
   "outputs": [
    {
     "data": {
      "text/plain": [
       "241"
      ]
     },
     "execution_count": 21,
     "metadata": {},
     "output_type": "execute_result"
    }
   ],
   "source": [
    "len(data[\"distance_matrix\"])"
   ]
  },
  {
   "cell_type": "code",
   "execution_count": 22,
   "metadata": {},
   "outputs": [],
   "source": [
    "driver_df[\"cost_per_meter\"] = driver_df.vehicle.apply(lambda x: 1 if x == \"BIKE\" else 3)\n",
    "driver_df[\"speed_meter_per_sec\"] = driver_df.vehicle.apply(\n",
    "    lambda x: 15 * 1000 / 3600 if x == \"BIKE\" else 30 * 1000 / 3600\n",
    ")\n",
    "driver_df[\"capacity\"] = driver_df.vehicle.apply(lambda x: 10 if x == \"BIKE\" else 30)"
   ]
  },
  {
   "cell_type": "code",
   "execution_count": 23,
   "metadata": {},
   "outputs": [],
   "source": [
    "dummy_pickups_drop_demands = (\n",
    "    [0]\n",
    "    + order_df[\"no_of_items\"].values.tolist()\n",
    "    + list(-1 * order_df[\"no_of_items\"].values)\n",
    ")"
   ]
  },
  {
   "cell_type": "code",
   "execution_count": 24,
   "metadata": {},
   "outputs": [],
   "source": [
    "veh_start_node_demands = [\n",
    "    0 for _ in range((all_coordinates_count + 1) - len(dummy_pickups_drop_demands))\n",
    "]"
   ]
  },
  {
   "cell_type": "code",
   "execution_count": 25,
   "metadata": {},
   "outputs": [],
   "source": [
    "data[\"demands\"] = dummy_pickups_drop_demands + veh_start_node_demands"
   ]
  },
  {
   "cell_type": "code",
   "execution_count": 26,
   "metadata": {},
   "outputs": [],
   "source": [
    "data[\"vehicle_capacities\"] = driver_df[\"capacity\"].values.tolist()"
   ]
  },
  {
   "cell_type": "code",
   "execution_count": 27,
   "metadata": {},
   "outputs": [],
   "source": [
    "data[\"pickups_deliveries\"] = [[i, i + 100] for i in range(1, order_df.shape[0] + 1)]"
   ]
  },
  {
   "cell_type": "code",
   "execution_count": 28,
   "metadata": {},
   "outputs": [],
   "source": [
    "dummy_location_tw = [[0, 7200]]\n",
    "pickup_drop_tw = (\n",
    "    order_df[[\"prep_duration_sec\", \"preferred_otd_sec\"]].values.tolist() * 2\n",
    ")\n",
    "dummy_pickup_drop_tw = dummy_location_tw + pickup_drop_tw"
   ]
  },
  {
   "cell_type": "code",
   "execution_count": 29,
   "metadata": {},
   "outputs": [
    {
     "data": {
      "text/plain": [
       "[[0, 7200],\n",
       " [0, 7200],\n",
       " [0, 7200],\n",
       " [0, 7200],\n",
       " [0, 7200],\n",
       " [0, 7200],\n",
       " [0, 7200],\n",
       " [0, 7200],\n",
       " [0, 7200],\n",
       " [0, 7200],\n",
       " [0, 7200],\n",
       " [0, 7200],\n",
       " [0, 7200],\n",
       " [0, 7200],\n",
       " [0, 7200],\n",
       " [0, 7200],\n",
       " [0, 7200],\n",
       " [0, 7200],\n",
       " [0, 7200],\n",
       " [0, 7200],\n",
       " [0, 7200],\n",
       " [0, 7200],\n",
       " [0, 7200],\n",
       " [0, 7200],\n",
       " [0, 7200],\n",
       " [0, 7200],\n",
       " [0, 7200],\n",
       " [0, 7200],\n",
       " [0, 7200],\n",
       " [0, 7200],\n",
       " [0, 7200],\n",
       " [0, 7200],\n",
       " [0, 7200],\n",
       " [0, 7200],\n",
       " [0, 7200],\n",
       " [0, 7200],\n",
       " [0, 7200],\n",
       " [0, 7200],\n",
       " [0, 7200],\n",
       " [0, 7200]]"
      ]
     },
     "execution_count": 29,
     "metadata": {},
     "output_type": "execute_result"
    }
   ],
   "source": [
    "driver_df[[\"shift_start_sec\", \"shift_end_sec\"]].values.tolist()"
   ]
  },
  {
   "cell_type": "code",
   "execution_count": 30,
   "metadata": {},
   "outputs": [],
   "source": [
    "veh_start_node_tw = [\n",
    "    [0, 7200]\n",
    "    for _ in range(all_coordinates_count + 1 - len(dummy_pickups_drop_demands))\n",
    "]"
   ]
  },
  {
   "cell_type": "code",
   "execution_count": 31,
   "metadata": {},
   "outputs": [],
   "source": [
    "data[\"time_windows\"] = dummy_pickup_drop_tw + veh_start_node_tw"
   ]
  },
  {
   "cell_type": "code",
   "execution_count": 32,
   "metadata": {},
   "outputs": [],
   "source": [
    "# Create the Routing Index Manager\n",
    "manager = pywrapcp.RoutingIndexManager(\n",
    "    len(data[\"distance_matrix\"]),\n",
    "    data[\"num_vehicles\"],\n",
    "    data[\"veh_start_indices\"],\n",
    "    data[\"veh_end_indices\"],\n",
    ")"
   ]
  },
  {
   "cell_type": "code",
   "execution_count": 33,
   "metadata": {},
   "outputs": [],
   "source": [
    "# Create Routing Model.\n",
    "routing = pywrapcp.RoutingModel(manager)"
   ]
  },
  {
   "cell_type": "markdown",
   "metadata": {},
   "source": [
    "Arc Costs being defined : START"
   ]
  },
  {
   "cell_type": "code",
   "execution_count": 34,
   "metadata": {},
   "outputs": [],
   "source": [
    "def distance_callback(from_index, to_index):\n",
    "    from_node = manager.IndexToNode(from_index)\n",
    "    to_node = manager.IndexToNode(to_index)\n",
    "\n",
    "    # Calculate distance between nodes\n",
    "    distance = data[\"distance_matrix\"][from_node][to_node]\n",
    "\n",
    "    return distance\n",
    "\n",
    "\n",
    "def cost_callback(from_index, to_index, cost_per_meter):\n",
    "    distance = distance_callback(from_index, to_index)\n",
    "    cost = distance * cost_per_meter\n",
    "\n",
    "    return cost\n",
    "\n",
    "\n",
    "def travel_time_callback(from_index, to_index, speed_in_mps):\n",
    "    distance = distance_callback(from_index, to_index)\n",
    "    time = distance / speed_in_mps\n",
    "\n",
    "    return int(round(time, 0))"
   ]
  },
  {
   "cell_type": "code",
   "execution_count": 35,
   "metadata": {},
   "outputs": [],
   "source": [
    "bike_transit_cost_callback = partial(cost_callback, cost_per_meter=1)\n",
    "car_transit_cost_callback = partial(cost_callback, cost_per_meter=3)"
   ]
  },
  {
   "cell_type": "code",
   "execution_count": 36,
   "metadata": {},
   "outputs": [],
   "source": [
    "distance_callback_index = routing.RegisterTransitCallback(distance_callback)\n",
    "\n",
    "bike_transit_cost_callback_index = routing.RegisterTransitCallback(\n",
    "    bike_transit_cost_callback\n",
    ")\n",
    "car_transit_cost_callback_index = routing.RegisterTransitCallback(\n",
    "    car_transit_cost_callback\n",
    ")"
   ]
  },
  {
   "cell_type": "code",
   "execution_count": 37,
   "metadata": {},
   "outputs": [],
   "source": [
    "# Define cost of each arc.\n",
    "for _, row in driver_df.iterrows():\n",
    "    v_id = row[\"driver_id\"]\n",
    "    v_type = row[\"vehicle\"]\n",
    "    if v_type == \"BIKE\":\n",
    "        routing.SetArcCostEvaluatorOfVehicle(bike_transit_cost_callback_index, v_id)\n",
    "    elif v_type == \"CAR\":\n",
    "        routing.SetArcCostEvaluatorOfVehicle(car_transit_cost_callback_index, v_id)"
   ]
  },
  {
   "cell_type": "code",
   "execution_count": 38,
   "metadata": {},
   "outputs": [],
   "source": [
    "# Add Distance dimension to track distances\n",
    "dimension_name = \"Distance\"\n",
    "routing.AddDimension(\n",
    "    distance_callback_index,\n",
    "    0,  # no slack\n",
    "    int(sum(data[\"distance_matrix\"][1]))\n",
    "    * 1000,  # vehicle maximum travel distance to be large\n",
    "    True,  # start cumul to zero\n",
    "    dimension_name,\n",
    ")\n",
    "distance_dimension = routing.GetDimensionOrDie(dimension_name)\n",
    "# distance_dimension.SetGlobalSpanCostCoefficient(100)"
   ]
  },
  {
   "cell_type": "markdown",
   "metadata": {},
   "source": [
    "Arc Costs being defined : END"
   ]
  },
  {
   "cell_type": "code",
   "execution_count": 39,
   "metadata": {},
   "outputs": [],
   "source": [
    "# [START pickup_delivery_constraint]\n",
    "for request in data[\"pickups_deliveries\"]:\n",
    "    pickup_index = manager.NodeToIndex(request[0])\n",
    "    delivery_index = manager.NodeToIndex(request[1])\n",
    "    routing.AddPickupAndDelivery(pickup_index, delivery_index)\n",
    "    routing.solver().Add(\n",
    "        routing.VehicleVar(pickup_index) == routing.VehicleVar(delivery_index)\n",
    "    )\n",
    "    routing.solver().Add(\n",
    "        distance_dimension.CumulVar(pickup_index)\n",
    "        <= distance_dimension.CumulVar(delivery_index)\n",
    "    )\n",
    "# [END pickup_delivery_constraint]"
   ]
  },
  {
   "cell_type": "markdown",
   "metadata": {},
   "source": [
    "### ADDING CAPACITY CONSTRAINTS"
   ]
  },
  {
   "cell_type": "code",
   "execution_count": 40,
   "metadata": {},
   "outputs": [],
   "source": [
    "# Add Capacity constraint.\n",
    "def demand_callback(from_index):\n",
    "    \"\"\"Returns the demand of the node.\"\"\"\n",
    "    # Convert from routing variable Index to demands NodeIndex.\n",
    "    from_node = manager.IndexToNode(from_index)\n",
    "    return data[\"demands\"][from_node]"
   ]
  },
  {
   "cell_type": "code",
   "execution_count": 41,
   "metadata": {},
   "outputs": [
    {
     "data": {
      "text/plain": [
       "True"
      ]
     },
     "execution_count": 41,
     "metadata": {},
     "output_type": "execute_result"
    }
   ],
   "source": [
    "demand_callback_index = routing.RegisterUnaryTransitCallback(demand_callback)\n",
    "\n",
    "routing.AddDimensionWithVehicleCapacity(\n",
    "    demand_callback_index,\n",
    "    0,  # null capacity slack\n",
    "    data[\"vehicle_capacities\"],  # vehicle maximum capacities\n",
    "    True,  # start cumul to zero\n",
    "    \"Capacity\",\n",
    ")"
   ]
  },
  {
   "cell_type": "markdown",
   "metadata": {},
   "source": [
    "### ADDING TIME WINDOW CONSTRAINTS"
   ]
  },
  {
   "cell_type": "code",
   "execution_count": 42,
   "metadata": {},
   "outputs": [],
   "source": [
    "bike_travel_time_callback = partial(travel_time_callback, speed_in_mps=15 * 5 / 18)\n",
    "car_travel_time_callback = partial(travel_time_callback, speed_in_mps=30 * 5 / 18)\n",
    "\n",
    "bike_travel_time_callback_index = routing.RegisterTransitCallback(\n",
    "    bike_travel_time_callback\n",
    ")\n",
    "car_travel_time_callback_index = routing.RegisterTransitCallback(\n",
    "    car_travel_time_callback\n",
    ")"
   ]
  },
  {
   "cell_type": "code",
   "execution_count": 43,
   "metadata": {},
   "outputs": [],
   "source": [
    "travel_time_callback_indices = driver_df.vehicle.apply(\n",
    "    lambda x: bike_travel_time_callback_index\n",
    "    if x == \"BIKE\"\n",
    "    else car_travel_time_callback_index\n",
    ").to_list()"
   ]
  },
  {
   "cell_type": "code",
   "execution_count": 44,
   "metadata": {},
   "outputs": [],
   "source": [
    "dimension_name = \"Time\"\n",
    "routing.AddDimensionWithVehicleTransitAndCapacity(\n",
    "    travel_time_callback_indices,\n",
    "    7200,  # Max Slack\n",
    "    [7200] * driver_df.shape[0],  # vehicle maximum travel time\n",
    "    False,  # don't start cumul to zero\n",
    "    dimension_name,\n",
    ")\n",
    "\n",
    "time_dimension = routing.GetDimensionOrDie(dimension_name)"
   ]
  },
  {
   "cell_type": "code",
   "execution_count": 45,
   "metadata": {},
   "outputs": [],
   "source": [
    "penalty = 1  # $1/second\n",
    "for location_idx, time_window in enumerate(data[\"time_windows\"]):\n",
    "    if location_idx in data[\"veh_start_indices\"] + data[\"veh_end_indices\"]:\n",
    "        continue\n",
    "    index = manager.NodeToIndex(location_idx)\n",
    "    time_dimension.CumulVar(index).SetMin(time_window[0])\n",
    "    time_dimension.SetCumulVarSoftUpperBound(index, time_window[1], penalty)"
   ]
  },
  {
   "cell_type": "code",
   "execution_count": 46,
   "metadata": {},
   "outputs": [],
   "source": [
    "for vehicle_id in range(data[\"num_vehicles\"]):\n",
    "    index = routing.Start(vehicle_id)\n",
    "    time_dimension.CumulVar(index).SetRange(0, 7200)"
   ]
  },
  {
   "cell_type": "code",
   "execution_count": 47,
   "metadata": {},
   "outputs": [],
   "source": [
    "# Instantiate route start and end times to produce feasible times.\n",
    "# [START depot_start_end_times]\n",
    "for i in range(data[\"num_vehicles\"]):\n",
    "    routing.AddVariableMinimizedByFinalizer(time_dimension.CumulVar(routing.Start(i)))\n",
    "    routing.AddVariableMinimizedByFinalizer(time_dimension.CumulVar(routing.End(i)))\n",
    "# [END depot_start_end_times]"
   ]
  },
  {
   "cell_type": "code",
   "execution_count": 48,
   "metadata": {},
   "outputs": [],
   "source": [
    "# Setting first solution heuristic.\n",
    "search_parameters = pywrapcp.DefaultRoutingSearchParameters()\n",
    "\n",
    "search_parameters.first_solution_strategy = (\n",
    "    routing_enums_pb2.FirstSolutionStrategy.AUTOMATIC\n",
    ")\n",
    "\n",
    "# search_parameters.time_limit.seconds = 30"
   ]
  },
  {
   "cell_type": "code",
   "execution_count": 49,
   "metadata": {},
   "outputs": [],
   "source": [
    "# Solve the problem.\n",
    "solution = routing.SolveWithParameters(search_parameters)"
   ]
  },
  {
   "cell_type": "code",
   "execution_count": 50,
   "metadata": {
    "scrolled": true
   },
   "outputs": [
    {
     "name": "stdout",
     "output_type": "stream",
     "text": [
      "Objective Cost: $636478\n",
      "Route for vehicle 0:\n",
      "201 Time(0,0) -> 89 Time(1080,1080) -> 27 Time(1308,1308) -> 127 Time(2146,2146) -> 17 Time(2368,2368) -> 189 Time(2405,2405) -> 117 Time(3513,3513) -> 0 Time(3513,3513)\n",
      "Time of the route: 3513 seconds\n",
      "Cost of the route: $11810\n",
      "Distance of the route: 10692\n",
      "Delay of the route: 1118\n",
      "Route for vehicle 1:\n",
      "202 Time(0,0) -> 14 Time(360,360) -> 21 Time(827,827) -> 80 Time(923,923) -> 121 Time(1287,1287) -> 114 Time(1815,1815) -> 180 Time(2316,2316) -> 0 Time(2316,2316)\n",
      "Time of the route: 2316 seconds\n",
      "Cost of the route: $8381\n",
      "Distance of the route: 8381\n",
      "Delay of the route: 0\n",
      "Route for vehicle 2:\n",
      "203 Time(0,0) -> 67 Time(420,1074) -> 59 Time(1200,1200) -> 167 Time(2079,2079) -> 47 Time(2316,2316) -> 159 Time(3020,3020) -> 147 Time(3585,3585) -> 0 Time(3585,3585)\n",
      "Time of the route: 3585 seconds\n",
      "Cost of the route: $13247\n",
      "Distance of the route: 11442\n",
      "Delay of the route: 1805\n",
      "Route for vehicle 3:\n",
      "204 Time(0,0) -> 43 Time(420,420) -> 46 Time(833,833) -> 146 Time(1344,1344) -> 143 Time(1593,1593) -> 61 Time(1785,1785) -> 161 Time(2594,2594) -> 0 Time(2594,2594)\n",
      "Time of the route: 2594 seconds\n",
      "Cost of the route: $9897\n",
      "Distance of the route: 9703\n",
      "Delay of the route: 194\n",
      "Route for vehicle 4:\n",
      "205 Time(0,0) -> 22 Time(960,960) -> 122 Time(2064,2064) -> 93 Time(2162,2162) -> 193 Time(3784,3784) -> 0 Time(3784,3784)\n",
      "Time of the route: 3784 seconds\n",
      "Cost of the route: $14096\n",
      "Distance of the route: 12712\n",
      "Delay of the route: 1384\n",
      "Route for vehicle 5:\n",
      "206 Time(0,0) -> 6 Time(840,961) -> 96 Time(1140,1140) -> 196 Time(1890,1890) -> 100 Time(2271,2271) -> 106 Time(2453,2453) -> 91 Time(2527,2527) -> 200 Time(3223,3223) -> 191 Time(3504,3504) -> 0 Time(3504,3504)\n",
      "Time of the route: 3504 seconds\n",
      "Cost of the route: $13313\n",
      "Distance of the route: 11206\n",
      "Delay of the route: 2107\n",
      "Route for vehicle 6:\n",
      "207 Time(0,0) -> 68 Time(480,526) -> 25 Time(1200,1200) -> 125 Time(1620,1620) -> 168 Time(2297,2297) -> 0 Time(2297,2297)\n",
      "Time of the route: 2297 seconds\n",
      "Cost of the route: $8277\n",
      "Distance of the route: 8277\n",
      "Delay of the route: 0\n",
      "Route for vehicle 7:\n",
      "208 Time(0,0) -> 1 Time(960,960) -> 101 Time(1440,1440) -> 78 Time(1806,1806) -> 178 Time(2924,2924) -> 0 Time(2924,2924)\n",
      "Time of the route: 2924 seconds\n",
      "Cost of the route: $9491\n",
      "Distance of the route: 8967\n",
      "Delay of the route: 524\n",
      "Route for vehicle 8:\n",
      "209 Time(0,0) -> 7 Time(1020,1020) -> 107 Time(2447,2447) -> 0 Time(2447,2447)\n",
      "Time of the route: 2447 seconds\n",
      "Cost of the route: $7260\n",
      "Distance of the route: 7213\n",
      "Delay of the route: 47\n",
      "Route for vehicle 9:\n",
      "210 Time(0,0) -> 40 Time(360,635) -> 140 Time(772,1047) -> 23 Time(1140,1140) -> 123 Time(2349,2349) -> 0 Time(2349,2349)\n",
      "Time of the route: 2349 seconds\n",
      "Cost of the route: $7966\n",
      "Distance of the route: 7966\n",
      "Delay of the route: 0\n",
      "Route for vehicle 10:\n",
      "211 Time(0,0) -> 74 Time(480,480) -> 174 Time(1149,1149) -> 20 Time(1217,1217) -> 120 Time(2043,2043) -> 39 Time(2393,2393) -> 139 Time(3107,3107) -> 0 Time(3107,3107)\n",
      "Time of the route: 3107 seconds\n",
      "Cost of the route: $12698\n",
      "Distance of the route: 11991\n",
      "Delay of the route: 707\n",
      "Route for vehicle 11:\n",
      "212 Time(0,0) -> 55 Time(540,653) -> 42 Time(1140,1140) -> 142 Time(1363,1363) -> 64 Time(1508,1508) -> 155 Time(2663,2663) -> 164 Time(3156,3156) -> 0 Time(3156,3156)\n",
      "Time of the route: 3156 seconds\n",
      "Cost of the route: $12538\n",
      "Distance of the route: 11519\n",
      "Delay of the route: 1019\n",
      "Route for vehicle 12:\n",
      "213 Time(0,0) -> 32 Time(780,780) -> 28 Time(1125,1125) -> 128 Time(1811,1811) -> 132 Time(2871,2871) -> 0 Time(2871,2871)\n",
      "Time of the route: 2871 seconds\n",
      "Cost of the route: $9539\n",
      "Distance of the route: 9068\n",
      "Delay of the route: 471\n",
      "Route for vehicle 13:\n",
      "214 Time(0,0) -> 36 Time(1020,1020) -> 136 Time(2246,2246) -> 0 Time(2246,2246)\n",
      "Time of the route: 2246 seconds\n",
      "Cost of the route: $5796\n",
      "Distance of the route: 5796\n",
      "Delay of the route: 0\n",
      "Route for vehicle 14:\n",
      "215 Time(0,0) -> 57 Time(960,960) -> 73 Time(1956,1956) -> 157 Time(2464,2464) -> 173 Time(2800,2800) -> 0 Time(2800,2800)\n",
      "Time of the route: 2800 seconds\n",
      "Cost of the route: $10755\n",
      "Distance of the route: 10291\n",
      "Delay of the route: 464\n",
      "Route for vehicle 15:\n",
      "216 Time(0,0) -> 94 Time(1080,1080) -> 194 Time(2237,2237) -> 81 Time(2271,2271) -> 181 Time(3603,3603) -> 0 Time(3603,3603)\n",
      "Time of the route: 3603 seconds\n",
      "Cost of the route: $12995\n",
      "Distance of the route: 11792\n",
      "Delay of the route: 1203\n",
      "Route for vehicle 16:\n",
      "217 Time(0,0) -> 90 Time(540,587) -> 82 Time(780,780) -> 182 Time(1724,1724) -> 190 Time(1960,1960) -> 2 Time(1993,1993) -> 102 Time(2383,2383) -> 0 Time(2383,2383)\n",
      "Time of the route: 2383 seconds\n",
      "Cost of the route: $8098\n",
      "Distance of the route: 8098\n",
      "Delay of the route: 0\n",
      "Route for vehicle 17:\n",
      "218 Time(0,0) -> 75 Time(720,720) -> 175 Time(1732,1732) -> 35 Time(1836,1836) -> 135 Time(3269,3269) -> 0 Time(3269,3269)\n",
      "Time of the route: 3269 seconds\n",
      "Cost of the route: $13851\n",
      "Distance of the route: 12982\n",
      "Delay of the route: 869\n",
      "Route for vehicle 18:\n",
      "219 Time(0,0) -> 15 Time(300,300) -> 31 Time(805,805) -> 131 Time(1648,1648) -> 115 Time(2055,2055) -> 0 Time(2055,2055)\n",
      "Time of the route: 2055 seconds\n",
      "Cost of the route: $8547\n",
      "Distance of the route: 8547\n",
      "Delay of the route: 0\n",
      "Route for vehicle 19:\n",
      "220 Time(0,0) -> 10 Time(1080,1080) -> 110 Time(1449,1449) -> 54 Time(1675,1675) -> 154 Time(2575,2575) -> 0 Time(2575,2575)\n",
      "Time of the route: 2575 seconds\n",
      "Cost of the route: $7587\n",
      "Distance of the route: 7412\n",
      "Delay of the route: 175\n",
      "Route for vehicle 20:\n",
      "221 Time(0,0) -> 65 Time(660,899) -> 165 Time(913,1152) -> 19 Time(1200,1200) -> 98 Time(1302,1302) -> 119 Time(1550,1550) -> 198 Time(1737,1737) -> 76 Time(1786,1786) -> 58 Time(1858,1858) -> 176 Time(2414,2414) -> 158 Time(2719,2719) -> 0 Time(2719,2719)\n",
      "Time of the route: 2719 seconds\n",
      "Cost of the route: $53889\n",
      "Distance of the route: 17852\n",
      "Delay of the route: 333\n",
      "Route for vehicle 21:\n",
      "222 Time(0,0) -> 29 Time(1200,1200) -> 77 Time(1241,1241) -> 53 Time(1347,1347) -> 153 Time(1407,1407) -> 30 Time(1475,1475) -> 177 Time(1688,1688) -> 129 Time(1895,1895) -> 130 Time(1949,1949) -> 0 Time(1949,1949)\n",
      "Time of the route: 1949 seconds\n",
      "Cost of the route: $19137\n",
      "Distance of the route: 6379\n",
      "Delay of the route: 0\n",
      "Route for vehicle 22:\n",
      "223 Time(0,0) -> 95 Time(960,960) -> 18 Time(1116,1116) -> 66 Time(1348,1348) -> 195 Time(1867,1867) -> 118 Time(2023,2023) -> 70 Time(2072,2072) -> 44 Time(2133,2133) -> 166 Time(2217,2217) -> 144 Time(2391,2391) -> 170 Time(2509,2509) -> 0 Time(2509,2509)\n",
      "Time of the route: 2509 seconds\n",
      "Cost of the route: $39796\n",
      "Distance of the route: 13229\n",
      "Delay of the route: 109\n",
      "Route for vehicle 23:\n",
      "224 Time(0,0) -> 0 Time(0,0)\n",
      "Time of the route: 0 seconds\n",
      "Cost of the route: $0\n",
      "Distance of the route: 0\n",
      "Delay of the route: 0\n",
      "Route for vehicle 24:\n",
      "225 Time(0,0) -> 38 Time(660,852) -> 69 Time(960,960) -> 169 Time(1210,1210) -> 79 Time(1343,1343) -> 138 Time(1525,1525) -> 16 Time(1612,1612) -> 179 Time(1959,1959) -> 116 Time(2259,2259) -> 0 Time(2259,2259)\n",
      "Time of the route: 2259 seconds\n",
      "Cost of the route: $37218\n",
      "Distance of the route: 12406\n",
      "Delay of the route: 0\n",
      "Route for vehicle 25:\n",
      "226 Time(0,0) -> 83 Time(720,720) -> 183 Time(1017,1017) -> 0 Time(1017,1017)\n",
      "Time of the route: 1017 seconds\n",
      "Cost of the route: $8151\n",
      "Distance of the route: 2717\n",
      "Delay of the route: 0\n",
      "Route for vehicle 26:\n",
      "227 Time(0,0) -> 5 Time(360,603) -> 105 Time(461,704) -> 60 Time(505,748) -> 8 Time(840,840) -> 108 Time(889,889) -> 48 Time(998,998) -> 160 Time(1187,1187) -> 41 Time(1386,1386) -> 141 Time(1820,1820) -> 148 Time(2048,2048) -> 0 Time(2048,2048)\n",
      "Time of the route: 2048 seconds\n",
      "Cost of the route: $38664\n",
      "Distance of the route: 12888\n",
      "Delay of the route: 0\n",
      "Route for vehicle 27:\n",
      "228 Time(0,0) -> 9 Time(480,480) -> 109 Time(721,721) -> 0 Time(721,721)\n",
      "Time of the route: 721 seconds\n",
      "Cost of the route: $6762\n",
      "Distance of the route: 2254\n",
      "Delay of the route: 0\n",
      "Route for vehicle 28:\n",
      "229 Time(0,0) -> 84 Time(780,780) -> 52 Time(890,890) -> 184 Time(1484,1484) -> 71 Time(1719,1719) -> 152 Time(1906,1906) -> 26 Time(2036,2036) -> 171 Time(2561,2561) -> 126 Time(2915,2915) -> 0 Time(2915,2915)\n",
      "Time of the route: 2915 seconds\n",
      "Cost of the route: $56518\n",
      "Distance of the route: 18614\n",
      "Delay of the route: 676\n",
      "Route for vehicle 29:\n",
      "230 Time(0,0) -> 0 Time(0,0)\n",
      "Time of the route: 0 seconds\n",
      "Cost of the route: $0\n",
      "Distance of the route: 0\n",
      "Delay of the route: 0\n",
      "Route for vehicle 30:\n",
      "231 Time(0,0) -> 0 Time(0,0)\n",
      "Time of the route: 0 seconds\n",
      "Cost of the route: $0\n",
      "Distance of the route: 0\n",
      "Delay of the route: 0\n",
      "Route for vehicle 31:\n",
      "232 Time(0,0) -> 0 Time(0,0)\n",
      "Time of the route: 0 seconds\n",
      "Cost of the route: $0\n",
      "Distance of the route: 0\n",
      "Delay of the route: 0\n",
      "Route for vehicle 32:\n",
      "233 Time(0,0) -> 11 Time(900,900) -> 85 Time(930,930) -> 185 Time(991,991) -> 88 Time(1067,1067) -> 111 Time(1420,1420) -> 63 Time(1706,1706) -> 163 Time(1749,1749) -> 62 Time(1818,1818) -> 162 Time(2136,2136) -> 188 Time(2337,2337) -> 0 Time(2337,2337)\n",
      "Time of the route: 2337 seconds\n",
      "Cost of the route: $36153\n",
      "Distance of the route: 12051\n",
      "Delay of the route: 0\n",
      "Route for vehicle 33:\n",
      "234 Time(0,0) -> 34 Time(720,720) -> 3 Time(767,767) -> 134 Time(1254,1254) -> 45 Time(1466,1466) -> 103 Time(1640,1640) -> 72 Time(1857,1857) -> 37 Time(1883,1883) -> 145 Time(2044,2044) -> 4 Time(2139,2139) -> 137 Time(2145,2145) -> 172 Time(2320,2320) -> 104 Time(2477,2477) -> 0 Time(2477,2477)\n",
      "Time of the route: 2477 seconds\n",
      "Cost of the route: $45284\n",
      "Distance of the route: 15069\n",
      "Delay of the route: 77\n",
      "Route for vehicle 34:\n",
      "235 Time(0,0) -> 99 Time(480,480) -> 199 Time(758,758) -> 0 Time(758,758)\n",
      "Time of the route: 758 seconds\n",
      "Cost of the route: $8301\n",
      "Distance of the route: 2767\n",
      "Delay of the route: 0\n",
      "Route for vehicle 35:\n",
      "236 Time(0,0) -> 0 Time(0,0)\n",
      "Time of the route: 0 seconds\n",
      "Cost of the route: $0\n",
      "Distance of the route: 0\n",
      "Delay of the route: 0\n",
      "Route for vehicle 36:\n",
      "237 Time(0,0) -> 97 Time(780,780) -> 197 Time(805,805) -> 56 Time(845,845) -> 156 Time(1122,1122) -> 24 Time(1173,1173) -> 124 Time(1473,1473) -> 92 Time(1550,1550) -> 192 Time(1619,1619) -> 0 Time(1619,1619)\n",
      "Time of the route: 1619 seconds\n",
      "Cost of the route: $21144\n",
      "Distance of the route: 7048\n",
      "Delay of the route: 0\n",
      "Route for vehicle 37:\n",
      "238 Time(0,0) -> 86 Time(960,960) -> 50 Time(1091,1091) -> 186 Time(1550,1550) -> 150 Time(1583,1583) -> 0 Time(1583,1583)\n",
      "Time of the route: 1583 seconds\n",
      "Cost of the route: $18846\n",
      "Distance of the route: 6282\n",
      "Delay of the route: 0\n",
      "Route for vehicle 38:\n",
      "239 Time(0,0) -> 87 Time(600,716) -> 187 Time(652,768) -> 33 Time(780,780) -> 12 Time(908,908) -> 133 Time(1008,1008) -> 112 Time(1170,1170) -> 49 Time(1320,1320) -> 13 Time(1654,1654) -> 149 Time(1751,1751) -> 51 Time(1873,1873) -> 151 Time(2096,2096) -> 113 Time(2329,2329) -> 0 Time(2329,2329)\n",
      "Time of the route: 2329 seconds\n",
      "Cost of the route: $40473\n",
      "Distance of the route: 13491\n",
      "Delay of the route: 0\n",
      "Route for vehicle 39:\n",
      "240 Time(0,0) -> 0 Time(0,0)\n",
      "Time of the route: 0 seconds\n",
      "Cost of the route: $0\n",
      "Distance of the route: 0\n",
      "Delay of the route: 0\n",
      "Maximum of the route costs: $56518\n",
      "Total route cost: $636478\n",
      "Total route time: 84618 seconds\n",
      "Total route distance: 1124194 meters\n",
      "Total route delay: 13282 seconds\n"
     ]
    }
   ],
   "source": [
    "print(f\"Objective Cost: ${solution.ObjectiveValue()}\")\n",
    "time_dimension = routing.GetDimensionOrDie(\"Time\")\n",
    "distance_dimension = routing.GetDimensionOrDie(\"Distance\")\n",
    "total_time = 0\n",
    "total_distance = 0\n",
    "max_route_cost = 0\n",
    "total_route_cost = 0\n",
    "total_delay = 0\n",
    "for vehicle_id in range(data[\"num_vehicles\"]):\n",
    "    index = routing.Start(vehicle_id)\n",
    "    plan_output = f\"Route for vehicle {vehicle_id}:\\n\"\n",
    "    route_cost = 0\n",
    "    route_distance = 0\n",
    "    route_penalty_cost = 0\n",
    "    route_delay = 0\n",
    "    while not routing.IsEnd(index):\n",
    "        time_var = time_dimension.CumulVar(index)\n",
    "        dist_var = distance_dimension.CumulVar(index)\n",
    "        plan_output += (\n",
    "            f\"{manager.IndexToNode(index)}\"\n",
    "            f\" Time({solution.Min(time_var)},{solution.Max(time_var)})\"\n",
    "            \" -> \"\n",
    "        )\n",
    "        if solution.Min(time_var) >= 2400:\n",
    "            route_penalty_cost += (solution.Min(time_var) - 2400) * 1\n",
    "        previous_index = index\n",
    "        index = solution.Value(routing.NextVar(index))\n",
    "        route_distance += solution.Value(dist_var)\n",
    "        route_cost += routing.GetArcCostForVehicle(previous_index, index, vehicle_id)\n",
    "\n",
    "    time_var = time_dimension.CumulVar(index)\n",
    "    dist_var = distance_dimension.CumulVar(index)\n",
    "\n",
    "    plan_output += (\n",
    "        f\"{manager.IndexToNode(index)}\"\n",
    "        f\" Time({solution.Min(time_var)},{solution.Max(time_var)})\\n\"\n",
    "    )\n",
    "\n",
    "    route_delay += route_penalty_cost\n",
    "    route_cost += route_penalty_cost * penalty\n",
    "    plan_output += f\"Time of the route: {solution.Min(time_var)} seconds\\n\"\n",
    "    plan_output += f\"Cost of the route: ${route_cost}\\n\"\n",
    "    plan_output += f\"Distance of the route: {solution.Min(dist_var)}\\n\"\n",
    "    plan_output += f\"Delay of the route: {route_delay}\"\n",
    "    print(plan_output)\n",
    "    max_route_cost = max(route_cost, max_route_cost)\n",
    "    total_route_cost += route_cost\n",
    "    total_time += solution.Min(time_var)\n",
    "    total_distance += route_distance\n",
    "    total_delay += route_delay\n",
    "print(f\"Maximum of the route costs: ${max_route_cost}\")\n",
    "print(f\"Total route cost: ${total_route_cost}\")\n",
    "print(f\"Total route time: {total_time} seconds\")\n",
    "print(f\"Total route distance: {total_distance} meters\")\n",
    "print(f\"Total route delay: {total_delay} seconds\")"
   ]
  },
  {
   "cell_type": "code",
   "execution_count": 51,
   "metadata": {},
   "outputs": [
    {
     "data": {
      "text/plain": [
       "((60374, 7788),\n",
       " (67038, 18321),\n",
       " (96719, 96719),\n",
       " (612644, 79669),\n",
       " (620521, 71814),\n",
       " (623196, 55842))"
      ]
     },
     "execution_count": 51,
     "metadata": {},
     "output_type": "execute_result"
    }
   ],
   "source": [
    "(60374, 7788), (67038, 18321), (96719, 96719), (612644, 79669), (620521, 71814), (\n",
    "    623196,\n",
    "    55842,\n",
    ")"
   ]
  },
  {
   "cell_type": "code",
   "execution_count": null,
   "metadata": {},
   "outputs": [],
   "source": []
  }
 ],
 "metadata": {
  "kernelspec": {
   "display_name": "Python 3 (ipykernel)",
   "language": "python",
   "name": "python3"
  },
  "language_info": {
   "codemirror_mode": {
    "name": "ipython",
    "version": 3
   },
   "file_extension": ".py",
   "mimetype": "text/x-python",
   "name": "python",
   "nbconvert_exporter": "python",
   "pygments_lexer": "ipython3",
   "version": "3.11.7"
  }
 },
 "nbformat": 4,
 "nbformat_minor": 4
}
