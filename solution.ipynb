{
 "cells": [
  {
   "cell_type": "markdown",
   "metadata": {},
   "source": [
    "## A driver can only take one order at a time"
   ]
  },
  {
   "cell_type": "code",
   "execution_count": 1,
   "metadata": {},
   "outputs": [],
   "source": [
    "import pickle\n",
    "\n",
    "import numpy as np\n",
    "import pandas as pd\n",
    "\n",
    "from functools import partial\n",
    "from geopy.distance import geodesic\n",
    "\n",
    "from ortools.constraint_solver import routing_enums_pb2\n",
    "from ortools.constraint_solver import pywrapcp"
   ]
  },
  {
   "cell_type": "code",
   "execution_count": 2,
   "metadata": {},
   "outputs": [],
   "source": [
    "path = \"input_data\""
   ]
  },
  {
   "cell_type": "markdown",
   "metadata": {},
   "source": [
    "READ INPUT DATA FILES"
   ]
  },
  {
   "cell_type": "code",
   "execution_count": 3,
   "metadata": {},
   "outputs": [
    {
     "data": {
      "text/html": [
       "<div>\n",
       "<style scoped>\n",
       "    .dataframe tbody tr th:only-of-type {\n",
       "        vertical-align: middle;\n",
       "    }\n",
       "\n",
       "    .dataframe tbody tr th {\n",
       "        vertical-align: top;\n",
       "    }\n",
       "\n",
       "    .dataframe thead th {\n",
       "        text-align: right;\n",
       "    }\n",
       "</style>\n",
       "<table border=\"1\" class=\"dataframe\">\n",
       "  <thead>\n",
       "    <tr style=\"text-align: right;\">\n",
       "      <th></th>\n",
       "      <th>order_id</th>\n",
       "      <th>restaurant_lat</th>\n",
       "      <th>restaurant_long</th>\n",
       "      <th>customer_lat</th>\n",
       "      <th>customer_long</th>\n",
       "      <th>no_of_items</th>\n",
       "      <th>prep_duration_sec</th>\n",
       "      <th>preferred_otd_sec</th>\n",
       "    </tr>\n",
       "  </thead>\n",
       "  <tbody>\n",
       "    <tr>\n",
       "      <th>0</th>\n",
       "      <td>0</td>\n",
       "      <td>52.534717</td>\n",
       "      <td>13.392920</td>\n",
       "      <td>52.536950</td>\n",
       "      <td>13.363647</td>\n",
       "      <td>9</td>\n",
       "      <td>960</td>\n",
       "      <td>2400</td>\n",
       "    </tr>\n",
       "    <tr>\n",
       "      <th>1</th>\n",
       "      <td>1</td>\n",
       "      <td>52.507490</td>\n",
       "      <td>13.460169</td>\n",
       "      <td>52.521861</td>\n",
       "      <td>13.464337</td>\n",
       "      <td>10</td>\n",
       "      <td>780</td>\n",
       "      <td>2400</td>\n",
       "    </tr>\n",
       "    <tr>\n",
       "      <th>2</th>\n",
       "      <td>2</td>\n",
       "      <td>52.539029</td>\n",
       "      <td>13.384884</td>\n",
       "      <td>52.507035</td>\n",
       "      <td>13.459327</td>\n",
       "      <td>12</td>\n",
       "      <td>360</td>\n",
       "      <td>2400</td>\n",
       "    </tr>\n",
       "    <tr>\n",
       "      <th>3</th>\n",
       "      <td>3</td>\n",
       "      <td>52.508368</td>\n",
       "      <td>13.408875</td>\n",
       "      <td>52.519709</td>\n",
       "      <td>13.374291</td>\n",
       "      <td>16</td>\n",
       "      <td>1020</td>\n",
       "      <td>2400</td>\n",
       "    </tr>\n",
       "    <tr>\n",
       "      <th>4</th>\n",
       "      <td>4</td>\n",
       "      <td>52.537509</td>\n",
       "      <td>13.429478</td>\n",
       "      <td>52.544824</td>\n",
       "      <td>13.432814</td>\n",
       "      <td>15</td>\n",
       "      <td>360</td>\n",
       "      <td>2400</td>\n",
       "    </tr>\n",
       "  </tbody>\n",
       "</table>\n",
       "</div>"
      ],
      "text/plain": [
       "   order_id  restaurant_lat  restaurant_long  customer_lat  customer_long  \\\n",
       "0         0       52.534717        13.392920     52.536950      13.363647   \n",
       "1         1       52.507490        13.460169     52.521861      13.464337   \n",
       "2         2       52.539029        13.384884     52.507035      13.459327   \n",
       "3         3       52.508368        13.408875     52.519709      13.374291   \n",
       "4         4       52.537509        13.429478     52.544824      13.432814   \n",
       "\n",
       "   no_of_items  prep_duration_sec  preferred_otd_sec  \n",
       "0            9                960               2400  \n",
       "1           10                780               2400  \n",
       "2           12                360               2400  \n",
       "3           16               1020               2400  \n",
       "4           15                360               2400  "
      ]
     },
     "execution_count": 3,
     "metadata": {},
     "output_type": "execute_result"
    }
   ],
   "source": [
    "order_df = pd.read_csv(f\"{path}/order_data.csv\")\n",
    "order_df.head()"
   ]
  },
  {
   "cell_type": "code",
   "execution_count": 4,
   "metadata": {},
   "outputs": [
    {
     "data": {
      "text/html": [
       "<div>\n",
       "<style scoped>\n",
       "    .dataframe tbody tr th:only-of-type {\n",
       "        vertical-align: middle;\n",
       "    }\n",
       "\n",
       "    .dataframe tbody tr th {\n",
       "        vertical-align: top;\n",
       "    }\n",
       "\n",
       "    .dataframe thead th {\n",
       "        text-align: right;\n",
       "    }\n",
       "</style>\n",
       "<table border=\"1\" class=\"dataframe\">\n",
       "  <thead>\n",
       "    <tr style=\"text-align: right;\">\n",
       "      <th></th>\n",
       "      <th>driver_id</th>\n",
       "      <th>shift_start_sec</th>\n",
       "      <th>shift_end_sec</th>\n",
       "      <th>start_location_lat</th>\n",
       "      <th>start_location_long</th>\n",
       "      <th>vehicle</th>\n",
       "    </tr>\n",
       "  </thead>\n",
       "  <tbody>\n",
       "    <tr>\n",
       "      <th>0</th>\n",
       "      <td>0</td>\n",
       "      <td>0</td>\n",
       "      <td>7200</td>\n",
       "      <td>52.502670</td>\n",
       "      <td>13.447406</td>\n",
       "      <td>BIKE</td>\n",
       "    </tr>\n",
       "    <tr>\n",
       "      <th>1</th>\n",
       "      <td>1</td>\n",
       "      <td>0</td>\n",
       "      <td>7200</td>\n",
       "      <td>52.518258</td>\n",
       "      <td>13.447747</td>\n",
       "      <td>BIKE</td>\n",
       "    </tr>\n",
       "    <tr>\n",
       "      <th>2</th>\n",
       "      <td>2</td>\n",
       "      <td>0</td>\n",
       "      <td>7200</td>\n",
       "      <td>52.517876</td>\n",
       "      <td>13.460788</td>\n",
       "      <td>BIKE</td>\n",
       "    </tr>\n",
       "    <tr>\n",
       "      <th>3</th>\n",
       "      <td>3</td>\n",
       "      <td>0</td>\n",
       "      <td>7200</td>\n",
       "      <td>52.528275</td>\n",
       "      <td>13.431436</td>\n",
       "      <td>BIKE</td>\n",
       "    </tr>\n",
       "    <tr>\n",
       "      <th>4</th>\n",
       "      <td>4</td>\n",
       "      <td>0</td>\n",
       "      <td>7200</td>\n",
       "      <td>52.510854</td>\n",
       "      <td>13.454662</td>\n",
       "      <td>BIKE</td>\n",
       "    </tr>\n",
       "  </tbody>\n",
       "</table>\n",
       "</div>"
      ],
      "text/plain": [
       "   driver_id  shift_start_sec  shift_end_sec  start_location_lat  \\\n",
       "0          0                0           7200           52.502670   \n",
       "1          1                0           7200           52.518258   \n",
       "2          2                0           7200           52.517876   \n",
       "3          3                0           7200           52.528275   \n",
       "4          4                0           7200           52.510854   \n",
       "\n",
       "   start_location_long vehicle  \n",
       "0            13.447406    BIKE  \n",
       "1            13.447747    BIKE  \n",
       "2            13.460788    BIKE  \n",
       "3            13.431436    BIKE  \n",
       "4            13.454662    BIKE  "
      ]
     },
     "execution_count": 4,
     "metadata": {},
     "output_type": "execute_result"
    }
   ],
   "source": [
    "driver_df = pd.read_csv(f\"{path}/driver_data.csv\")\n",
    "driver_df.head()"
   ]
  },
  {
   "cell_type": "code",
   "execution_count": 5,
   "metadata": {},
   "outputs": [
    {
     "data": {
      "text/html": [
       "<div>\n",
       "<style scoped>\n",
       "    .dataframe tbody tr th:only-of-type {\n",
       "        vertical-align: middle;\n",
       "    }\n",
       "\n",
       "    .dataframe tbody tr th {\n",
       "        vertical-align: top;\n",
       "    }\n",
       "\n",
       "    .dataframe thead th {\n",
       "        text-align: right;\n",
       "    }\n",
       "</style>\n",
       "<table border=\"1\" class=\"dataframe\">\n",
       "  <thead>\n",
       "    <tr style=\"text-align: right;\">\n",
       "      <th></th>\n",
       "      <th>order_id</th>\n",
       "      <th>restaurant_lat</th>\n",
       "      <th>restaurant_long</th>\n",
       "      <th>customer_lat</th>\n",
       "      <th>customer_long</th>\n",
       "      <th>no_of_items</th>\n",
       "      <th>prep_duration_sec</th>\n",
       "      <th>preferred_otd_sec</th>\n",
       "    </tr>\n",
       "  </thead>\n",
       "  <tbody>\n",
       "    <tr>\n",
       "      <th>count</th>\n",
       "      <td>100.000000</td>\n",
       "      <td>100.000000</td>\n",
       "      <td>100.000000</td>\n",
       "      <td>100.000000</td>\n",
       "      <td>100.000000</td>\n",
       "      <td>100.000000</td>\n",
       "      <td>100.000000</td>\n",
       "      <td>100.0</td>\n",
       "    </tr>\n",
       "    <tr>\n",
       "      <th>mean</th>\n",
       "      <td>49.500000</td>\n",
       "      <td>52.520640</td>\n",
       "      <td>13.408850</td>\n",
       "      <td>52.518894</td>\n",
       "      <td>13.406724</td>\n",
       "      <td>9.840000</td>\n",
       "      <td>723.600000</td>\n",
       "      <td>2400.0</td>\n",
       "    </tr>\n",
       "    <tr>\n",
       "      <th>std</th>\n",
       "      <td>29.011492</td>\n",
       "      <td>0.017904</td>\n",
       "      <td>0.028543</td>\n",
       "      <td>0.019089</td>\n",
       "      <td>0.028775</td>\n",
       "      <td>5.052692</td>\n",
       "      <td>267.489337</td>\n",
       "      <td>0.0</td>\n",
       "    </tr>\n",
       "    <tr>\n",
       "      <th>min</th>\n",
       "      <td>0.000000</td>\n",
       "      <td>52.485165</td>\n",
       "      <td>13.353377</td>\n",
       "      <td>52.486500</td>\n",
       "      <td>13.354016</td>\n",
       "      <td>1.000000</td>\n",
       "      <td>300.000000</td>\n",
       "      <td>2400.0</td>\n",
       "    </tr>\n",
       "    <tr>\n",
       "      <th>25%</th>\n",
       "      <td>24.750000</td>\n",
       "      <td>52.507638</td>\n",
       "      <td>13.388908</td>\n",
       "      <td>52.502885</td>\n",
       "      <td>13.384448</td>\n",
       "      <td>6.000000</td>\n",
       "      <td>480.000000</td>\n",
       "      <td>2400.0</td>\n",
       "    </tr>\n",
       "    <tr>\n",
       "      <th>50%</th>\n",
       "      <td>49.500000</td>\n",
       "      <td>52.519565</td>\n",
       "      <td>13.407955</td>\n",
       "      <td>52.518842</td>\n",
       "      <td>13.401845</td>\n",
       "      <td>9.000000</td>\n",
       "      <td>720.000000</td>\n",
       "      <td>2400.0</td>\n",
       "    </tr>\n",
       "    <tr>\n",
       "      <th>75%</th>\n",
       "      <td>74.250000</td>\n",
       "      <td>52.534732</td>\n",
       "      <td>13.429163</td>\n",
       "      <td>52.534923</td>\n",
       "      <td>13.430591</td>\n",
       "      <td>14.250000</td>\n",
       "      <td>960.000000</td>\n",
       "      <td>2400.0</td>\n",
       "    </tr>\n",
       "    <tr>\n",
       "      <th>max</th>\n",
       "      <td>99.000000</td>\n",
       "      <td>52.554721</td>\n",
       "      <td>13.464321</td>\n",
       "      <td>52.555948</td>\n",
       "      <td>13.464337</td>\n",
       "      <td>19.000000</td>\n",
       "      <td>1200.000000</td>\n",
       "      <td>2400.0</td>\n",
       "    </tr>\n",
       "  </tbody>\n",
       "</table>\n",
       "</div>"
      ],
      "text/plain": [
       "         order_id  restaurant_lat  restaurant_long  customer_lat  \\\n",
       "count  100.000000      100.000000       100.000000    100.000000   \n",
       "mean    49.500000       52.520640        13.408850     52.518894   \n",
       "std     29.011492        0.017904         0.028543      0.019089   \n",
       "min      0.000000       52.485165        13.353377     52.486500   \n",
       "25%     24.750000       52.507638        13.388908     52.502885   \n",
       "50%     49.500000       52.519565        13.407955     52.518842   \n",
       "75%     74.250000       52.534732        13.429163     52.534923   \n",
       "max     99.000000       52.554721        13.464321     52.555948   \n",
       "\n",
       "       customer_long  no_of_items  prep_duration_sec  preferred_otd_sec  \n",
       "count     100.000000   100.000000         100.000000              100.0  \n",
       "mean       13.406724     9.840000         723.600000             2400.0  \n",
       "std         0.028775     5.052692         267.489337                0.0  \n",
       "min        13.354016     1.000000         300.000000             2400.0  \n",
       "25%        13.384448     6.000000         480.000000             2400.0  \n",
       "50%        13.401845     9.000000         720.000000             2400.0  \n",
       "75%        13.430591    14.250000         960.000000             2400.0  \n",
       "max        13.464337    19.000000        1200.000000             2400.0  "
      ]
     },
     "execution_count": 5,
     "metadata": {},
     "output_type": "execute_result"
    }
   ],
   "source": [
    "# Check initial sanity of data\n",
    "order_df.describe()"
   ]
  },
  {
   "cell_type": "code",
   "execution_count": 6,
   "metadata": {},
   "outputs": [
    {
     "data": {
      "text/html": [
       "<div>\n",
       "<style scoped>\n",
       "    .dataframe tbody tr th:only-of-type {\n",
       "        vertical-align: middle;\n",
       "    }\n",
       "\n",
       "    .dataframe tbody tr th {\n",
       "        vertical-align: top;\n",
       "    }\n",
       "\n",
       "    .dataframe thead th {\n",
       "        text-align: right;\n",
       "    }\n",
       "</style>\n",
       "<table border=\"1\" class=\"dataframe\">\n",
       "  <thead>\n",
       "    <tr style=\"text-align: right;\">\n",
       "      <th></th>\n",
       "      <th>driver_id</th>\n",
       "      <th>shift_start_sec</th>\n",
       "      <th>shift_end_sec</th>\n",
       "      <th>start_location_lat</th>\n",
       "      <th>start_location_long</th>\n",
       "    </tr>\n",
       "  </thead>\n",
       "  <tbody>\n",
       "    <tr>\n",
       "      <th>count</th>\n",
       "      <td>40.000000</td>\n",
       "      <td>40.0</td>\n",
       "      <td>40.0</td>\n",
       "      <td>40.000000</td>\n",
       "      <td>40.000000</td>\n",
       "    </tr>\n",
       "    <tr>\n",
       "      <th>mean</th>\n",
       "      <td>19.500000</td>\n",
       "      <td>0.0</td>\n",
       "      <td>7200.0</td>\n",
       "      <td>52.520005</td>\n",
       "      <td>13.406796</td>\n",
       "    </tr>\n",
       "    <tr>\n",
       "      <th>std</th>\n",
       "      <td>11.690452</td>\n",
       "      <td>0.0</td>\n",
       "      <td>0.0</td>\n",
       "      <td>0.015724</td>\n",
       "      <td>0.030908</td>\n",
       "    </tr>\n",
       "    <tr>\n",
       "      <th>min</th>\n",
       "      <td>0.000000</td>\n",
       "      <td>0.0</td>\n",
       "      <td>7200.0</td>\n",
       "      <td>52.488881</td>\n",
       "      <td>13.351823</td>\n",
       "    </tr>\n",
       "    <tr>\n",
       "      <th>25%</th>\n",
       "      <td>9.750000</td>\n",
       "      <td>0.0</td>\n",
       "      <td>7200.0</td>\n",
       "      <td>52.509868</td>\n",
       "      <td>13.381836</td>\n",
       "    </tr>\n",
       "    <tr>\n",
       "      <th>50%</th>\n",
       "      <td>19.500000</td>\n",
       "      <td>0.0</td>\n",
       "      <td>7200.0</td>\n",
       "      <td>52.519269</td>\n",
       "      <td>13.410317</td>\n",
       "    </tr>\n",
       "    <tr>\n",
       "      <th>75%</th>\n",
       "      <td>29.250000</td>\n",
       "      <td>0.0</td>\n",
       "      <td>7200.0</td>\n",
       "      <td>52.530530</td>\n",
       "      <td>13.422828</td>\n",
       "    </tr>\n",
       "    <tr>\n",
       "      <th>max</th>\n",
       "      <td>39.000000</td>\n",
       "      <td>0.0</td>\n",
       "      <td>7200.0</td>\n",
       "      <td>52.555571</td>\n",
       "      <td>13.460788</td>\n",
       "    </tr>\n",
       "  </tbody>\n",
       "</table>\n",
       "</div>"
      ],
      "text/plain": [
       "       driver_id  shift_start_sec  shift_end_sec  start_location_lat  \\\n",
       "count  40.000000             40.0           40.0           40.000000   \n",
       "mean   19.500000              0.0         7200.0           52.520005   \n",
       "std    11.690452              0.0            0.0            0.015724   \n",
       "min     0.000000              0.0         7200.0           52.488881   \n",
       "25%     9.750000              0.0         7200.0           52.509868   \n",
       "50%    19.500000              0.0         7200.0           52.519269   \n",
       "75%    29.250000              0.0         7200.0           52.530530   \n",
       "max    39.000000              0.0         7200.0           52.555571   \n",
       "\n",
       "       start_location_long  \n",
       "count            40.000000  \n",
       "mean             13.406796  \n",
       "std               0.030908  \n",
       "min              13.351823  \n",
       "25%              13.381836  \n",
       "50%              13.410317  \n",
       "75%              13.422828  \n",
       "max              13.460788  "
      ]
     },
     "execution_count": 6,
     "metadata": {},
     "output_type": "execute_result"
    }
   ],
   "source": [
    "driver_df.describe()"
   ]
  },
  {
   "cell_type": "code",
   "execution_count": 7,
   "metadata": {},
   "outputs": [],
   "source": [
    "# We have used geodesics to calculate distances between two coordinates\n",
    "def calculate_distance(coord1, coord2):\n",
    "    return int(geodesic(coord1, coord2).meters)"
   ]
  },
  {
   "cell_type": "code",
   "execution_count": 8,
   "metadata": {},
   "outputs": [],
   "source": [
    "pickup_coordinates = order_df[[\"restaurant_lat\", \"restaurant_long\"]].values.tolist()\n",
    "drop_coordinates = order_df[[\"customer_lat\", \"customer_long\"]].values.tolist()"
   ]
  },
  {
   "cell_type": "code",
   "execution_count": 9,
   "metadata": {},
   "outputs": [],
   "source": [
    "veh_start_coordinates = driver_df[\n",
    "    [\"start_location_lat\", \"start_location_long\"]\n",
    "].values.tolist()"
   ]
  },
  {
   "cell_type": "code",
   "execution_count": 10,
   "metadata": {},
   "outputs": [],
   "source": [
    "cust_coordinates = pickup_coordinates + drop_coordinates"
   ]
  },
  {
   "cell_type": "code",
   "execution_count": 11,
   "metadata": {},
   "outputs": [
    {
     "data": {
      "text/plain": [
       "100"
      ]
     },
     "execution_count": 11,
     "metadata": {},
     "output_type": "execute_result"
    }
   ],
   "source": [
    "len(pickup_coordinates)"
   ]
  },
  {
   "cell_type": "code",
   "execution_count": 12,
   "metadata": {},
   "outputs": [
    {
     "data": {
      "text/plain": [
       "200"
      ]
     },
     "execution_count": 12,
     "metadata": {},
     "output_type": "execute_result"
    }
   ],
   "source": [
    "len(cust_coordinates)"
   ]
  },
  {
   "cell_type": "code",
   "execution_count": 13,
   "metadata": {},
   "outputs": [
    {
     "data": {
      "text/plain": [
       "240"
      ]
     },
     "execution_count": 13,
     "metadata": {},
     "output_type": "execute_result"
    }
   ],
   "source": [
    "all_coordinates = cust_coordinates + veh_start_coordinates\n",
    "all_coordinates_count = len(all_coordinates)\n",
    "all_coordinates_count"
   ]
  },
  {
   "cell_type": "code",
   "execution_count": 14,
   "metadata": {},
   "outputs": [],
   "source": [
    "# 1 dummy node at beginning to allow arbitrary end locations of routes\n",
    "distance_matrix = [\n",
    "    [0] * (all_coordinates_count + 1) for _ in range(all_coordinates_count + 1)\n",
    "]"
   ]
  },
  {
   "cell_type": "code",
   "execution_count": 15,
   "metadata": {},
   "outputs": [
    {
     "data": {
      "text/plain": [
       "241"
      ]
     },
     "execution_count": 15,
     "metadata": {},
     "output_type": "execute_result"
    }
   ],
   "source": [
    "len(distance_matrix)"
   ]
  },
  {
   "cell_type": "code",
   "execution_count": 16,
   "metadata": {},
   "outputs": [
    {
     "data": {
      "text/plain": [
       "241"
      ]
     },
     "execution_count": 16,
     "metadata": {},
     "output_type": "execute_result"
    }
   ],
   "source": [
    "len(distance_matrix[0])"
   ]
  },
  {
   "cell_type": "code",
   "execution_count": 17,
   "metadata": {},
   "outputs": [],
   "source": [
    "# for i in range(all_coordinates_count):\n",
    "#     for j in range(all_coordinates_count):\n",
    "#         distance_matrix[i+1][j+1] = calculate_distance(all_coordinates[i], all_coordinates[j])\n",
    "\n",
    "# with open(\"dm\", \"wb\") as fp:   #Pickling\n",
    "#   pickle.dump(distance_matrix, fp)"
   ]
  },
  {
   "cell_type": "code",
   "execution_count": 18,
   "metadata": {},
   "outputs": [],
   "source": [
    "with open(\"dm\", \"rb\") as fp:  # Unpickling\n",
    "    distance_matrix = pickle.load(fp)"
   ]
  },
  {
   "cell_type": "code",
   "execution_count": 19,
   "metadata": {},
   "outputs": [],
   "source": [
    "data = {}\n",
    "data[\"distance_matrix\"] = distance_matrix\n",
    "data[\"num_vehicles\"] = driver_df.shape[0]"
   ]
  },
  {
   "cell_type": "code",
   "execution_count": 20,
   "metadata": {},
   "outputs": [],
   "source": [
    "data[\"veh_start_indices\"] = [\n",
    "    len(cust_coordinates) + i + 1 for i in range(driver_df.shape[0])\n",
    "]"
   ]
  },
  {
   "cell_type": "code",
   "execution_count": 21,
   "metadata": {},
   "outputs": [],
   "source": [
    "data[\"veh_end_indices\"] = [0 for _ in range(driver_df.shape[0])]"
   ]
  },
  {
   "cell_type": "code",
   "execution_count": 22,
   "metadata": {},
   "outputs": [
    {
     "data": {
      "text/plain": [
       "40"
      ]
     },
     "execution_count": 22,
     "metadata": {},
     "output_type": "execute_result"
    }
   ],
   "source": [
    "data[\"num_vehicles\"]"
   ]
  },
  {
   "cell_type": "code",
   "execution_count": 23,
   "metadata": {},
   "outputs": [
    {
     "data": {
      "text/plain": [
       "241"
      ]
     },
     "execution_count": 23,
     "metadata": {},
     "output_type": "execute_result"
    }
   ],
   "source": [
    "len(data[\"distance_matrix\"])"
   ]
  },
  {
   "cell_type": "code",
   "execution_count": 24,
   "metadata": {},
   "outputs": [],
   "source": [
    "driver_df[\"cost_per_meter\"] = driver_df.vehicle.apply(lambda x: 1 if x == \"BIKE\" else 3)\n",
    "driver_df[\"speed_meter_per_sec\"] = driver_df.vehicle.apply(\n",
    "    lambda x: 15 * 1000 / 3600 if x == \"BIKE\" else 30 * 1000 / 3600\n",
    ")"
   ]
  },
  {
   "cell_type": "code",
   "execution_count": 25,
   "metadata": {},
   "outputs": [],
   "source": [
    "data[\"pickups_deliveries\"] = [[i, i + 100] for i in range(1, order_df.shape[0] + 1)]"
   ]
  },
  {
   "cell_type": "code",
   "execution_count": 26,
   "metadata": {},
   "outputs": [],
   "source": [
    "# Create the Routing Index Manager\n",
    "manager = pywrapcp.RoutingIndexManager(\n",
    "    len(data[\"distance_matrix\"]),\n",
    "    data[\"num_vehicles\"],\n",
    "    data[\"veh_start_indices\"],\n",
    "    data[\"veh_end_indices\"],\n",
    ")"
   ]
  },
  {
   "cell_type": "code",
   "execution_count": 27,
   "metadata": {},
   "outputs": [],
   "source": [
    "# Create Routing Model.\n",
    "routing = pywrapcp.RoutingModel(manager)"
   ]
  },
  {
   "cell_type": "markdown",
   "metadata": {},
   "source": [
    "Arc Costs being defined : START"
   ]
  },
  {
   "cell_type": "code",
   "execution_count": 28,
   "metadata": {},
   "outputs": [],
   "source": [
    "def distance_callback(from_index, to_index):\n",
    "    from_node = manager.IndexToNode(from_index)\n",
    "    to_node = manager.IndexToNode(to_index)\n",
    "\n",
    "    # Calculate distance between nodes\n",
    "    distance = data[\"distance_matrix\"][from_node][to_node]\n",
    "\n",
    "    return distance\n",
    "\n",
    "\n",
    "def cost_callback(from_index, to_index, cost_per_meter):\n",
    "    distance = distance_callback(from_index, to_index)\n",
    "    cost = distance * cost_per_meter\n",
    "\n",
    "    return cost"
   ]
  },
  {
   "cell_type": "code",
   "execution_count": 29,
   "metadata": {},
   "outputs": [],
   "source": [
    "bike_transit_cost_callback = partial(cost_callback, cost_per_meter=1)\n",
    "car_transit_cost_callback = partial(cost_callback, cost_per_meter=3)"
   ]
  },
  {
   "cell_type": "code",
   "execution_count": 30,
   "metadata": {},
   "outputs": [],
   "source": [
    "distance_callback_index = routing.RegisterTransitCallback(distance_callback)\n",
    "\n",
    "bike_transit_cost_callback_index = routing.RegisterTransitCallback(\n",
    "    bike_transit_cost_callback\n",
    ")\n",
    "car_transit_cost_callback_index = routing.RegisterTransitCallback(\n",
    "    car_transit_cost_callback\n",
    ")"
   ]
  },
  {
   "cell_type": "code",
   "execution_count": 31,
   "metadata": {},
   "outputs": [],
   "source": [
    "# Define cost of each arc.\n",
    "for _, row in driver_df.iterrows():\n",
    "    v_id = row[\"driver_id\"]\n",
    "    v_type = row[\"vehicle\"]\n",
    "    cost = row[\"cost_per_meter\"]\n",
    "    if v_type == \"BIKE\":\n",
    "        routing.SetArcCostEvaluatorOfVehicle(bike_transit_cost_callback_index, v_id)\n",
    "    elif v_type == \"CAR\":\n",
    "        routing.SetArcCostEvaluatorOfVehicle(car_transit_cost_callback_index, v_id)"
   ]
  },
  {
   "cell_type": "code",
   "execution_count": 32,
   "metadata": {},
   "outputs": [],
   "source": [
    "# Add Distance dimension to track distances\n",
    "dimension_name = \"Distance\"\n",
    "routing.AddDimension(\n",
    "    distance_callback_index,\n",
    "    0,  # no slack\n",
    "    int(sum(data[\"distance_matrix\"][1]))\n",
    "    * 1000,  # vehicle maximum travel distance to be large\n",
    "    True,  # start cumul to zero\n",
    "    dimension_name,\n",
    ")\n",
    "distance_dimension = routing.GetDimensionOrDie(dimension_name)"
   ]
  },
  {
   "cell_type": "markdown",
   "metadata": {},
   "source": [
    "Arc Costs being defined : END"
   ]
  },
  {
   "cell_type": "code",
   "execution_count": 34,
   "metadata": {},
   "outputs": [],
   "source": [
    "# [START pickup_delivery_constraint]\n",
    "for request in data[\"pickups_deliveries\"]:\n",
    "    pickup_index = manager.NodeToIndex(request[0])\n",
    "    delivery_index = manager.NodeToIndex(request[1])\n",
    "    routing.AddPickupAndDelivery(pickup_index, delivery_index)\n",
    "    routing.solver().Add(\n",
    "        routing.VehicleVar(pickup_index) == routing.VehicleVar(delivery_index)\n",
    "    )\n",
    "    routing.solver().Add(\n",
    "        distance_dimension.CumulVar(pickup_index)\n",
    "        <= distance_dimension.CumulVar(delivery_index)\n",
    "    )\n",
    "# [END pickup_delivery_constraint]"
   ]
  },
  {
   "cell_type": "markdown",
   "metadata": {},
   "source": [
    "### ADDING CAPACITY CONSTRAINTS"
   ]
  },
  {
   "cell_type": "code",
   "execution_count": null,
   "metadata": {},
   "outputs": [],
   "source": []
  },
  {
   "cell_type": "code",
   "execution_count": null,
   "metadata": {},
   "outputs": [],
   "source": []
  },
  {
   "cell_type": "code",
   "execution_count": 35,
   "metadata": {},
   "outputs": [],
   "source": [
    "# Setting first solution heuristic.\n",
    "search_parameters = pywrapcp.DefaultRoutingSearchParameters()\n",
    "\n",
    "search_parameters.first_solution_strategy = (\n",
    "    routing_enums_pb2.FirstSolutionStrategy.AUTOMATIC\n",
    ")\n",
    "\n",
    "# search_parameters.time_limit.seconds = 30"
   ]
  },
  {
   "cell_type": "code",
   "execution_count": 36,
   "metadata": {},
   "outputs": [],
   "source": [
    "# Solve the problem.\n",
    "solution = routing.SolveWithParameters(search_parameters)"
   ]
  },
  {
   "cell_type": "code",
   "execution_count": 37,
   "metadata": {},
   "outputs": [
    {
     "name": "stdout",
     "output_type": "stream",
     "text": [
      "Objective Cost: $96719\n",
      "Route for vehicle 0:\n",
      " 201 -> 0\n",
      "Cost of the route: $0\n",
      "\n",
      "Route for vehicle 1:\n",
      " 202 -> 0\n",
      "Cost of the route: $0\n",
      "\n",
      "Route for vehicle 2:\n",
      " 203 -> 0\n",
      "Cost of the route: $0\n",
      "\n",
      "Route for vehicle 3:\n",
      " 204 -> 0\n",
      "Cost of the route: $0\n",
      "\n",
      "Route for vehicle 4:\n",
      " 205 -> 0\n",
      "Cost of the route: $0\n",
      "\n",
      "Route for vehicle 5:\n",
      " 206 -> 0\n",
      "Cost of the route: $0\n",
      "\n",
      "Route for vehicle 6:\n",
      " 207 -> 0\n",
      "Cost of the route: $0\n",
      "\n",
      "Route for vehicle 7:\n",
      " 208 -> 0\n",
      "Cost of the route: $0\n",
      "\n",
      "Route for vehicle 8:\n",
      " 209 -> 0\n",
      "Cost of the route: $0\n",
      "\n",
      "Route for vehicle 9:\n",
      " 210 -> 0\n",
      "Cost of the route: $0\n",
      "\n",
      "Route for vehicle 10:\n",
      " 211 -> 0\n",
      "Cost of the route: $0\n",
      "\n",
      "Route for vehicle 11:\n",
      " 212 -> 0\n",
      "Cost of the route: $0\n",
      "\n",
      "Route for vehicle 12:\n",
      " 213 -> 0\n",
      "Cost of the route: $0\n",
      "\n",
      "Route for vehicle 13:\n",
      " 214 -> 0\n",
      "Cost of the route: $0\n",
      "\n",
      "Route for vehicle 14:\n",
      " 215 -> 0\n",
      "Cost of the route: $0\n",
      "\n",
      "Route for vehicle 15:\n",
      " 216 -> 0\n",
      "Cost of the route: $0\n",
      "\n",
      "Route for vehicle 16:\n",
      " 217 ->  25 ->  63 ->  43 ->  163 ->  19 ->  22 ->  14 ->  59 ->  40 ->  88 ->  65 ->  68 ->  11 ->  85 ->  67 ->  45 ->  16 ->  89 ->  98 ->  74 ->  27 ->  37 ->  72 ->  26 ->  69 ->  21 ->  80 ->  62 ->  50 ->  137 ->  4 ->  86 ->  30 ->  121 ->  6 ->  29 ->  77 ->  96 ->  172 ->  31 ->  53 ->  24 ->  12 ->  20 ->  174 ->  87 ->  198 ->  35 ->  122 ->  94 ->  93 ->  58 ->  188 ->  168 ->  49 ->  17 ->  7 ->  61 ->  15 ->  124 ->  143 ->  78 ->  92 ->  13 ->  114 ->  51 ->  75 ->  1 ->  46 ->  84 ->  151 ->  55 ->  10 ->  111 ->  52 ->  28 ->  95 ->  47 ->  167 ->  18 ->  8 ->  108 ->  135 ->  82 ->  117 ->  90 ->  5 ->  66 ->  140 ->  23 ->  107 ->  105 ->  60 ->  113 ->  178 ->  110 ->  32 ->  48 ->  54 ->  126 ->  186 ->  116 ->  161 ->  150 ->  193 ->  160 ->  42 ->  99 ->  64 ->  180 ->  142 ->  158 ->  3 ->  34 ->  101 ->  83 ->  128 ->  192 ->  41 ->  199 ->  146 ->  159 ->  149 ->  183 ->  9 ->  104 ->  81 ->  56 ->  194 ->  97 ->  197 ->  189 ->  147 ->  127 ->  187 ->  33 ->  184 ->  36 ->  112 ->  132 ->  57 ->  196 ->  76 ->  148 ->  166 ->  100 ->  44 ->  70 ->  106 ->  118 ->  71 ->  175 ->  144 ->  162 ->  133 ->  141 ->  170 ->  156 ->  125 ->  153 ->  155 ->  123 ->  38 ->  119 ->  145 ->  39 ->  177 ->  164 ->  91 ->  152 ->  169 ->  120 ->  195 ->  79 ->  129 ->  130 ->  190 ->  103 ->  2 ->  136 ->  138 ->  115 ->  182 ->  200 ->  131 ->  165 ->  134 ->  157 ->  154 ->  139 ->  179 ->  109 ->  176 ->  73 ->  181 ->  171 ->  173 ->  185 ->  102 ->  191 -> 0\n",
      "Cost of the route: $96719\n",
      "\n",
      "Route for vehicle 17:\n",
      " 218 -> 0\n",
      "Cost of the route: $0\n",
      "\n",
      "Route for vehicle 18:\n",
      " 219 -> 0\n",
      "Cost of the route: $0\n",
      "\n",
      "Route for vehicle 19:\n",
      " 220 -> 0\n",
      "Cost of the route: $0\n",
      "\n",
      "Route for vehicle 20:\n",
      " 221 -> 0\n",
      "Cost of the route: $0\n",
      "\n",
      "Route for vehicle 21:\n",
      " 222 -> 0\n",
      "Cost of the route: $0\n",
      "\n",
      "Route for vehicle 22:\n",
      " 223 -> 0\n",
      "Cost of the route: $0\n",
      "\n",
      "Route for vehicle 23:\n",
      " 224 -> 0\n",
      "Cost of the route: $0\n",
      "\n",
      "Route for vehicle 24:\n",
      " 225 -> 0\n",
      "Cost of the route: $0\n",
      "\n",
      "Route for vehicle 25:\n",
      " 226 -> 0\n",
      "Cost of the route: $0\n",
      "\n",
      "Route for vehicle 26:\n",
      " 227 -> 0\n",
      "Cost of the route: $0\n",
      "\n",
      "Route for vehicle 27:\n",
      " 228 -> 0\n",
      "Cost of the route: $0\n",
      "\n",
      "Route for vehicle 28:\n",
      " 229 -> 0\n",
      "Cost of the route: $0\n",
      "\n",
      "Route for vehicle 29:\n",
      " 230 -> 0\n",
      "Cost of the route: $0\n",
      "\n",
      "Route for vehicle 30:\n",
      " 231 -> 0\n",
      "Cost of the route: $0\n",
      "\n",
      "Route for vehicle 31:\n",
      " 232 -> 0\n",
      "Cost of the route: $0\n",
      "\n",
      "Route for vehicle 32:\n",
      " 233 -> 0\n",
      "Cost of the route: $0\n",
      "\n",
      "Route for vehicle 33:\n",
      " 234 -> 0\n",
      "Cost of the route: $0\n",
      "\n",
      "Route for vehicle 34:\n",
      " 235 -> 0\n",
      "Cost of the route: $0\n",
      "\n",
      "Route for vehicle 35:\n",
      " 236 -> 0\n",
      "Cost of the route: $0\n",
      "\n",
      "Route for vehicle 36:\n",
      " 237 -> 0\n",
      "Cost of the route: $0\n",
      "\n",
      "Route for vehicle 37:\n",
      " 238 -> 0\n",
      "Cost of the route: $0\n",
      "\n",
      "Route for vehicle 38:\n",
      " 239 -> 0\n",
      "Cost of the route: $0\n",
      "\n",
      "Route for vehicle 39:\n",
      " 240 -> 0\n",
      "Cost of the route: $0\n",
      "\n",
      "Maximum of the route costs: $96719\n"
     ]
    }
   ],
   "source": [
    "print(f\"Objective Cost: ${solution.ObjectiveValue()}\")\n",
    "max_route_cost = 0\n",
    "total_route_cost = 0\n",
    "for vehicle_id in range(data[\"num_vehicles\"]):\n",
    "    index = routing.Start(vehicle_id)\n",
    "    plan_output = f\"Route for vehicle {vehicle_id}:\\n\"\n",
    "    route_cost = 0\n",
    "    while not routing.IsEnd(index):\n",
    "        plan_output += f\" {manager.IndexToNode(index)} -> \"\n",
    "        previous_index = index\n",
    "        index = solution.Value(routing.NextVar(index))\n",
    "        route_cost += routing.GetArcCostForVehicle(previous_index, index, vehicle_id)\n",
    "    plan_output += f\"{manager.IndexToNode(index)}\\n\"\n",
    "    plan_output += f\"Cost of the route: ${route_cost}\\n\"\n",
    "    print(plan_output)\n",
    "    max_route_cost = max(route_cost, max_route_cost)\n",
    "    total_route_cost += route_cost\n",
    "print(f\"Maximum of the route costs: ${max_route_cost}\")"
   ]
  },
  {
   "cell_type": "code",
   "execution_count": 39,
   "metadata": {},
   "outputs": [
    {
     "data": {
      "text/plain": [
       "((60374, 7788), (67038, 18321), (96719, 96719))"
      ]
     },
     "execution_count": 39,
     "metadata": {},
     "output_type": "execute_result"
    }
   ],
   "source": [
    "(60374, 7788), (67038, 18321), (96719, 96719)"
   ]
  },
  {
   "cell_type": "code",
   "execution_count": null,
   "metadata": {},
   "outputs": [],
   "source": []
  }
 ],
 "metadata": {
  "kernelspec": {
   "display_name": "Python 3 (ipykernel)",
   "language": "python",
   "name": "python3"
  },
  "language_info": {
   "codemirror_mode": {
    "name": "ipython",
    "version": 3
   },
   "file_extension": ".py",
   "mimetype": "text/x-python",
   "name": "python",
   "nbconvert_exporter": "python",
   "pygments_lexer": "ipython3",
   "version": "3.11.6"
  }
 },
 "nbformat": 4,
 "nbformat_minor": 4
}
